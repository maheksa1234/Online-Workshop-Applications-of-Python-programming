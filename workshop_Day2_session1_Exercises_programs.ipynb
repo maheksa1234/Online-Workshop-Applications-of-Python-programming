{
  "nbformat": 4,
  "nbformat_minor": 0,
  "metadata": {
    "colab": {
      "name": "workshop Day2  session1 Exercises programs",
      "provenance": [],
      "collapsed_sections": [],
      "authorship_tag": "ABX9TyN6edXlac7XFTytdxBabj8I",
      "include_colab_link": true
    },
    "kernelspec": {
      "name": "python3",
      "display_name": "Python 3"
    }
  },
  "cells": [
    {
      "cell_type": "markdown",
      "metadata": {
        "id": "view-in-github",
        "colab_type": "text"
      },
      "source": [
        "<a href=\"https://colab.research.google.com/github/maheksa1234/Online-Workshop-Applications-of-Python-programming/blob/master/workshop_Day2_session1_Exercises_programs.ipynb\" target=\"_parent\"><img src=\"https://colab.research.google.com/assets/colab-badge.svg\" alt=\"Open In Colab\"/></a>"
      ]
    },
    {
      "cell_type": "markdown",
      "metadata": {
        "id": "O0LIjFTd3Poi",
        "colab_type": "text"
      },
      "source": [
        "#List exercises\n"
      ]
    },
    {
      "cell_type": "markdown",
      "metadata": {
        "id": "askUFtmm3SN4",
        "colab_type": "text"
      },
      "source": [
        "#print multiples of 3 upto 200 using a list"
      ]
    },
    {
      "cell_type": "code",
      "metadata": {
        "id": "ZXg-APdW3Xcv",
        "colab_type": "code",
        "outputId": "3358f02d-e361-4ae6-d456-cf746d51fb82",
        "colab": {
          "base_uri": "https://localhost:8080/",
          "height": 55
        }
      },
      "source": [
        "print(([i  for i in range(0,200) if i%3==0]))"
      ],
      "execution_count": 0,
      "outputs": [
        {
          "output_type": "stream",
          "text": [
            "[0, 3, 6, 9, 12, 15, 18, 21, 24, 27, 30, 33, 36, 39, 42, 45, 48, 51, 54, 57, 60, 63, 66, 69, 72, 75, 78, 81, 84, 87, 90, 93, 96, 99, 102, 105, 108, 111, 114, 117, 120, 123, 126, 129, 132, 135, 138, 141, 144, 147, 150, 153, 156, 159, 162, 165, 168, 171, 174, 177, 180, 183, 186, 189, 192, 195, 198]\n"
          ],
          "name": "stdout"
        }
      ]
    },
    {
      "cell_type": "markdown",
      "metadata": {
        "id": "mjoFTRlH4Otl",
        "colab_type": "text"
      },
      "source": [
        "#print the nos only divisable by 5 and 7 between 1000 and 2000 using a list( both inclusive)"
      ]
    },
    {
      "cell_type": "code",
      "metadata": {
        "id": "BycX3nqg4Sy_",
        "colab_type": "code",
        "colab": {
          "base_uri": "https://localhost:8080/",
          "height": 55
        },
        "outputId": "b822a410-0d9d-4dec-9f84-bd5c9fa1349d"
      },
      "source": [
        "print(([i  for i in range(1000,2000) if(i%5==0 and i%7==0)]))"
      ],
      "execution_count": 2,
      "outputs": [
        {
          "output_type": "stream",
          "text": [
            "[1015, 1050, 1085, 1120, 1155, 1190, 1225, 1260, 1295, 1330, 1365, 1400, 1435, 1470, 1505, 1540, 1575, 1610, 1645, 1680, 1715, 1750, 1785, 1820, 1855, 1890, 1925, 1960, 1995]\n"
          ],
          "name": "stdout"
        }
      ]
    },
    {
      "cell_type": "markdown",
      "metadata": {
        "id": "80s--x_s4bZk",
        "colab_type": "text"
      },
      "source": [
        "#Add the n number of names in a list and print them alphabetically and reverse alphabetically."
      ]
    },
    {
      "cell_type": "code",
      "metadata": {
        "id": "2awlQxzu4cza",
        "colab_type": "code",
        "colab": {
          "base_uri": "https://localhost:8080/",
          "height": 139
        },
        "outputId": "354e7edb-e80f-4682-8d17-22704ad25c62"
      },
      "source": [
        "names=([(input()) for i in range(int(input(\"Enter n: \")))])\n",
        "print(\"Input :\",names)\n",
        "names.sort()\n",
        "print(\"alphabetically : \",names)\n",
        "names.sort(reverse=True)\n",
        "print(\"reverse alphabetically: \",names)"
      ],
      "execution_count": 3,
      "outputs": [
        {
          "output_type": "stream",
          "text": [
            "Enter n: 3\n",
            "mahek\n",
            "mmaahheekk\n",
            "adnan\n",
            "Input : ['mahek', 'mmaahheekk', 'adnan']\n",
            "alphabetically :  ['adnan', 'mahek', 'mmaahheekk']\n",
            "reverse alphabetically:  ['mmaahheekk', 'mahek', 'adnan']\n"
          ],
          "name": "stdout"
        }
      ]
    },
    {
      "cell_type": "markdown",
      "metadata": {
        "id": "Ofn0Bj-Q4s_f",
        "colab_type": "text"
      },
      "source": [
        "#Print perfect squares and divisible by 5 between 500 and 1000( (both inclusive) using list"
      ]
    },
    {
      "cell_type": "code",
      "metadata": {
        "id": "apws5nUY4wl9",
        "colab_type": "code",
        "colab": {
          "base_uri": "https://localhost:8080/",
          "height": 35
        },
        "outputId": "1469fba5-a876-4c30-e596-23abf89a0fb5"
      },
      "source": [
        "def perfectSquares(l, r): \n",
        "\tfor i in range(l, r + 1): \n",
        "\t\tif ((i**(.5) == int(i**(.5))) and i%5==0): \n",
        "\t\t\tprint(i, end=\" \") \n",
        "perfectSquares(500, 1000)"
      ],
      "execution_count": 4,
      "outputs": [
        {
          "output_type": "stream",
          "text": [
            "625 900 "
          ],
          "name": "stdout"
        }
      ]
    },
    {
      "cell_type": "markdown",
      "metadata": {
        "id": "vpxfAOAo41fI",
        "colab_type": "text"
      },
      "source": [
        "#Tuple exercises"
      ]
    },
    {
      "cell_type": "markdown",
      "metadata": {
        "id": "bPGOhyXg4-dh",
        "colab_type": "text"
      },
      "source": [
        "#Get a string and store word by word as elements in a tuple and find the largest word in the tuple and print it"
      ]
    },
    {
      "cell_type": "code",
      "metadata": {
        "id": "Gbz28aiN4_l_",
        "colab_type": "code",
        "colab": {
          "base_uri": "https://localhost:8080/",
          "height": 69
        },
        "outputId": "0e6f9a38-b4d7-4e90-d39a-18cfc9102b67"
      },
      "source": [
        "txt=input(\"enter string: \")\n",
        "words = txt.split()\n",
        "a = list()\n",
        "for word in words:\n",
        "  a.append((word))\n",
        "max1=len(a[0])\n",
        "temp=a[0]\n",
        "for i in a:\n",
        "    if(len(i)>max1):\n",
        "       max1=len(i)\n",
        "       temp=i\n",
        "print(\"The word with the longest length is:\")\n",
        "print(temp)"
      ],
      "execution_count": 5,
      "outputs": [
        {
          "output_type": "stream",
          "text": [
            "enter string: alvas collage\n",
            "The word with the longest length is:\n",
            "collage\n"
          ],
          "name": "stdout"
        }
      ]
    },
    {
      "cell_type": "markdown",
      "metadata": {
        "id": "nULTQfiB5NLh",
        "colab_type": "text"
      },
      "source": [
        "#Get rollno and marks (Rollno, mark) as list of tuples for n number of students through keyboard and print them in marks descending order with rollno."
      ]
    },
    {
      "cell_type": "code",
      "metadata": {
        "id": "pDbsiR5w5Oxj",
        "colab_type": "code",
        "colab": {
          "base_uri": "https://localhost:8080/",
          "height": 173
        },
        "outputId": "3417be3f-b880-4f6d-e8c7-3767c9220c3a"
      },
      "source": [
        "t=[]\n",
        "a=[]\n",
        "n=int(input(\"enter num of students: \"))\n",
        "for i in range(0,n):\n",
        "  e=int(input(\"enter rollnum: \"))\n",
        "  j=int(input(\"enter marks: \"))\n",
        "  t.append(e)\n",
        "  a.append(j)\n",
        "m = [(t[i], a[i]) for i in range(0, len(t))]\n",
        "print(\"input: \",m)\n",
        "m.sort(key = lambda x: x[1],reverse=1)  \n",
        "print(\"output\",m)"
      ],
      "execution_count": 6,
      "outputs": [
        {
          "output_type": "stream",
          "text": [
            "enter num of students: 3\n",
            "enter rollnum: 51\n",
            "enter marks: 55\n",
            "enter rollnum: 52\n",
            "enter marks: 56\n",
            "enter rollnum: 53\n",
            "enter marks: 48\n",
            "input:  [(51, 55), (52, 56), (53, 48)]\n",
            "output [(52, 56), (51, 55), (53, 48)]\n"
          ],
          "name": "stdout"
        }
      ]
    },
    {
      "cell_type": "markdown",
      "metadata": {
        "id": "_Q8U9py_5cmh",
        "colab_type": "text"
      },
      "source": [
        "#Get name and salary (name, salary) as list of tuples for n number of employees through keyboard and print them in name alphabetical order with salary"
      ]
    },
    {
      "cell_type": "code",
      "metadata": {
        "id": "gaw5boqy5hr3",
        "colab_type": "code",
        "colab": {
          "base_uri": "https://localhost:8080/",
          "height": 173
        },
        "outputId": "31d0949e-bff4-400a-c3fc-d11dda3ddae8"
      },
      "source": [
        "t=[]\n",
        "a=[]\n",
        "n=int(input(\"enter num of employees: \"))\n",
        "for i in range(0,n):\n",
        "  e=(input(\"enter name: \"))\n",
        "  j=float(input(\"enter salary: \"))\n",
        "  t.append(e)\n",
        "  a.append(j)\n",
        "m = [(t[i], a[i]) for i in range(0, len(t))]\n",
        "print(\"input: \",m)\n",
        "m.sort(key = lambda x: x[0])  \n",
        "print(\"output\",m)"
      ],
      "execution_count": 7,
      "outputs": [
        {
          "output_type": "stream",
          "text": [
            "enter num of employees: 3\n",
            "enter name: danish\n",
            "enter salary: 24000\n",
            "enter name: naveed\n",
            "enter salary: 50000\n",
            "enter name: salman\n",
            "enter salary: 700000\n",
            "input:  [('danish', 24000.0), ('naveed', 50000.0), ('salman', 700000.0)]\n",
            "output [('danish', 24000.0), ('naveed', 50000.0), ('salman', 700000.0)]\n"
          ],
          "name": "stdout"
        }
      ]
    }
  ]
}