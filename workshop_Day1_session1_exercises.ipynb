{
  "nbformat": 4,
  "nbformat_minor": 0,
  "metadata": {
    "colab": {
      "name": "workshop Day1 session1-exercises",
      "provenance": [],
      "collapsed_sections": [],
      "authorship_tag": "ABX9TyM/BBhZshniUK7PqetguSdB",
      "include_colab_link": true
    },
    "kernelspec": {
      "name": "python3",
      "display_name": "Python 3"
    }
  },
  "cells": [
    {
      "cell_type": "markdown",
      "metadata": {
        "id": "view-in-github",
        "colab_type": "text"
      },
      "source": [
        "<a href=\"https://colab.research.google.com/github/maheksa1234/Online-Workshop-Applications-of-Python-programming/blob/master/workshop_Day1_session1_exercises.ipynb\" target=\"_parent\"><img src=\"https://colab.research.google.com/assets/colab-badge.svg\" alt=\"Open In Colab\"/></a>"
      ]
    },
    {
      "cell_type": "code",
      "metadata": {
        "id": "VqmBgLNI6gDG",
        "colab_type": "code",
        "colab": {}
      },
      "source": [
        ""
      ],
      "execution_count": 0,
      "outputs": []
    },
    {
      "cell_type": "markdown",
      "metadata": {
        "id": "D5XC831u6l5_",
        "colab_type": "text"
      },
      "source": [
        "#Find the compound interest for the given p,n,r (formula : p(1+n*r/100)n )"
      ]
    },
    {
      "cell_type": "code",
      "metadata": {
        "id": "hvfoCcMi6pEF",
        "colab_type": "code",
        "colab": {
          "base_uri": "https://localhost:8080/",
          "height": 87
        },
        "outputId": "e081d48f-4c3e-499f-a12b-75bf6235dc7a"
      },
      "source": [
        "def compound_interest(principle, rate, time): \n",
        "    CI = principle * (pow((1 + rate / 100), time)) \n",
        "    print(\"Compound interest is\", CI) \n",
        "p=int(input(\"enter p value: \"))\n",
        "n=int(input(\"enter n value: \"))\n",
        "r=float(input(\"enter r value: \"))\n",
        "compound_interest(p, r, n)"
      ],
      "execution_count": 1,
      "outputs": [
        {
          "output_type": "stream",
          "text": [
            "enter p value: 1200\n",
            "enter n value: 5\n",
            "enter r value: 5.4\n",
            "Compound interest is 1560.9331373340292\n"
          ],
          "name": "stdout"
        }
      ]
    },
    {
      "cell_type": "markdown",
      "metadata": {
        "id": "fb35SZQR64KZ",
        "colab_type": "text"
      },
      "source": [
        "#Convert centegrade to farenheit ( f= 9/5*c+32)"
      ]
    },
    {
      "cell_type": "code",
      "metadata": {
        "id": "49xmMO7k6_Et",
        "colab_type": "code",
        "colab": {
          "base_uri": "https://localhost:8080/",
          "height": 52
        },
        "outputId": "25209936-0fa2-40e5-f02f-4353eaf8f9c7"
      },
      "source": [
        "celsius = float(input(\"Enter temperature in celsius: \"))\n",
        "fahrenheit = (celsius * 9/5) + 32\n",
        "print('%.2f Celsius is: %0.2f Fahrenheit' %(celsius, fahrenheit))"
      ],
      "execution_count": 2,
      "outputs": [
        {
          "output_type": "stream",
          "text": [
            "Enter temperature in celsius: 5\n",
            "5.00 Celsius is: 41.00 Fahrenheit\n"
          ],
          "name": "stdout"
        }
      ]
    },
    {
      "cell_type": "markdown",
      "metadata": {
        "id": "8AFva6u-7FNk",
        "colab_type": "text"
      },
      "source": [
        "#Find the greater of two nos"
      ]
    },
    {
      "cell_type": "code",
      "metadata": {
        "id": "lMQQScSS7J9O",
        "colab_type": "code",
        "colab": {
          "base_uri": "https://localhost:8080/",
          "height": 87
        },
        "outputId": "c620f36c-138d-4716-ac2e-0f5961aebf23"
      },
      "source": [
        "a=int(input(\"enter a num : \"))\n",
        "b=int(input(\"enter a num : \"))\n",
        "print(\"greater num is : \")\n",
        "if(a>b):\n",
        "  print(a)\n",
        "else:\n",
        "  print(b)"
      ],
      "execution_count": 3,
      "outputs": [
        {
          "output_type": "stream",
          "text": [
            "enter a num : 10\n",
            "enter a num : 100\n",
            "greater num is : \n",
            "100\n"
          ],
          "name": "stdout"
        }
      ]
    },
    {
      "cell_type": "markdown",
      "metadata": {
        "id": "_TGoZzP37T0v",
        "colab_type": "text"
      },
      "source": [
        "#Write a program for finding surface areas of cylinder and cone using function."
      ]
    },
    {
      "cell_type": "code",
      "metadata": {
        "id": "H5uzUZhg7YyQ",
        "colab_type": "code",
        "colab": {
          "base_uri": "https://localhost:8080/",
          "height": 87
        },
        "outputId": "c221d3ef-482e-4dc0-ca4e-21fae9d815c8"
      },
      "source": [
        "import math\n",
        "def Cylinder(r,h):\n",
        "  return 2*math.pi*r*r*h\n",
        "def cone(r,h):\n",
        "  return (1/3)*math.pi*r*r*h\n",
        "r=int(input(\"enter r value : \"))\n",
        "h=int(input(\"enter h value\"))\n",
        "print(\"surface area of cylinder is : %.2f\"%Cylinder(r,h))\n",
        "print(\"surface area of cone is : %.2f \"%cone(r,h))"
      ],
      "execution_count": 4,
      "outputs": [
        {
          "output_type": "stream",
          "text": [
            "enter r value : 5\n",
            "enter h value3\n",
            "surface area of cylinder is : 471.24\n",
            "surface area of cone is : 78.54 \n"
          ],
          "name": "stdout"
        }
      ]
    },
    {
      "cell_type": "markdown",
      "metadata": {
        "id": "6jl-Iw8o7m2d",
        "colab_type": "text"
      },
      "source": [
        "#Find the greatest of four nos ( using ‘and’ operator) using function."
      ]
    },
    {
      "cell_type": "code",
      "metadata": {
        "id": "w5nlwDT97qqp",
        "colab_type": "code",
        "colab": {
          "base_uri": "https://localhost:8080/",
          "height": 121
        },
        "outputId": "d298e87d-f573-4553-9b55-26377c8d58d8"
      },
      "source": [
        "a=int(input(\"enter 1st num: \"))\n",
        "b=int(input(\"enter 2nd num: \"))\n",
        "c=int(input(\"enter 3rd num: \"))\n",
        "d=int(input(\"enter 4th num: \"))\n",
        "print(\"greater num is : \")\n",
        "if(a>b and a>c and a>d):\n",
        "  print(a)\n",
        "elif(b>c and b>d):\n",
        "  print(b)\n",
        "elif(c>d):\n",
        "  print(c)\n",
        "else:\n",
        "  print(d)"
      ],
      "execution_count": 5,
      "outputs": [
        {
          "output_type": "stream",
          "text": [
            "enter 1st num: 5\n",
            "enter 2nd num: 8\n",
            "enter 3rd num: 7\n",
            "enter 4th num: 12\n",
            "greater num is : \n",
            "12\n"
          ],
          "name": "stdout"
        }
      ]
    },
    {
      "cell_type": "markdown",
      "metadata": {
        "id": "Odb4rT8Q7z-7",
        "colab_type": "text"
      },
      "source": [
        "#Write a menu program to perform the operations ( ODDorEven, Factorial, ODDNoUptoN, PrimeUptoN ) using functions for two nos with menu choice"
      ]
    },
    {
      "cell_type": "code",
      "metadata": {
        "id": "vJrU6yLs74cU",
        "colab_type": "code",
        "colab": {
          "base_uri": "https://localhost:8080/",
          "height": 1000
        },
        "outputId": "9c394ac3-8c94-4912-b338-854640017f19"
      },
      "source": [
        "loop = 1 \n",
        "choice = 0 \n",
        "\n",
        "def oddoreven(a):\n",
        "  if(a%2==0):\n",
        "    print(\"even\")\n",
        "  else:\n",
        "    print(\"odd\") \n",
        "def fact(num):\n",
        "  factorial=1\n",
        "  if num < 0:\n",
        "     print(\"Sorry, factorial does not exist for negative numbers\")\n",
        "  elif num == 0:\n",
        "     print(\"The factorial of 0 is 1\")\n",
        "  else:\n",
        "     for i in range(1,num + 1):\n",
        "         factorial = factorial*i\n",
        "     print(\"The factorial of\",num,\"is\",factorial)\n",
        "def odd(n):\n",
        "   print(\"odd numbers: \");\n",
        "   for i in range(1,n+1):\n",
        "      if(i%2!=0):\n",
        "        print(i)\n",
        "def prime(l,h):\n",
        "  print(\"prime numbers: \")\n",
        "  for num in range(l,h + 1):  \n",
        "   if num > 1:  \n",
        "       for i in range(2,num):  \n",
        "           if (num % i) == 0:  \n",
        "               break  \n",
        "       else:  \n",
        "           print(num)  \n",
        "\n",
        "while loop == 1:\n",
        "  print (\"Welcome\")\n",
        "  print (\"your options are:\")\n",
        "  print (\"\")\n",
        "  print(\"1) odd or even\")\n",
        "  print(\"2) factorial\")\n",
        "  print(\"3) odd upto n\")\n",
        "  print(\"4) prime upto n\")\n",
        "  print(\"5) Quit \")\n",
        "  print(\"\")\n",
        "  try:\n",
        "    choice = int(input(\"Choose your option: \"))\n",
        "  except:\n",
        "     print('please enter a valid number for option')\n",
        "     print(\"\")\n",
        "  print(\"\")\n",
        "  if choice == 1:\n",
        "       x = int(input(\" Enter  no: \"))\n",
        "       oddoreven(x)\n",
        "\n",
        "  elif choice == 2:\n",
        "     x = int(input(\"Enter  no: \"))\n",
        "     fact(x)\n",
        "\n",
        "  elif choice == 3:\n",
        "      x = int(input(\"Enter range: \"))\n",
        "      odd(x)\n",
        "\n",
        "  elif choice == 4:\n",
        "       x = int(input(\"Enter lower range: \"))\n",
        "       y = int(input(\"Enter upper range: \"))\n",
        "       prime(x,y)\n",
        "\n",
        "  elif choice == 5:\n",
        "      loop = 0\n",
        "\n",
        "  else:\n",
        "       print(\"please choice a valid option from 1 to 5\")\n",
        "       choice=0\n",
        "print (\"Thank-you \")"
      ],
      "execution_count": 6,
      "outputs": [
        {
          "output_type": "stream",
          "text": [
            "Welcome\n",
            "your options are:\n",
            "\n",
            "1) odd or even\n",
            "2) factorial\n",
            "3) odd upto n\n",
            "4) prime upto n\n",
            "5) Quit \n",
            "\n",
            "Choose your option: 1\n",
            "\n",
            " Enter  no: 10\n",
            "even\n",
            "Welcome\n",
            "your options are:\n",
            "\n",
            "1) odd or even\n",
            "2) factorial\n",
            "3) odd upto n\n",
            "4) prime upto n\n",
            "5) Quit \n",
            "\n",
            "Choose your option: 2\n",
            "\n",
            "Enter  no: 5\n",
            "The factorial of 5 is 120\n",
            "Welcome\n",
            "your options are:\n",
            "\n",
            "1) odd or even\n",
            "2) factorial\n",
            "3) odd upto n\n",
            "4) prime upto n\n",
            "5) Quit \n",
            "\n",
            "Choose your option: 3\n",
            "\n",
            "Enter range: 10\n",
            "odd numbers: \n",
            "1\n",
            "3\n",
            "5\n",
            "7\n",
            "9\n",
            "Welcome\n",
            "your options are:\n",
            "\n",
            "1) odd or even\n",
            "2) factorial\n",
            "3) odd upto n\n",
            "4) prime upto n\n",
            "5) Quit \n",
            "\n",
            "Choose your option: 4\n",
            "\n",
            "Enter lower range: 1\n",
            "Enter upper range: 10\n",
            "prime numbers: \n",
            "2\n",
            "3\n",
            "5\n",
            "7\n",
            "Welcome\n",
            "your options are:\n",
            "\n",
            "1) odd or even\n",
            "2) factorial\n",
            "3) odd upto n\n",
            "4) prime upto n\n",
            "5) Quit \n",
            "\n",
            "Choose your option: 4\n",
            "\n",
            "Enter lower range: 1\n",
            "Enter upper range: 10\n",
            "prime numbers: \n",
            "2\n",
            "3\n",
            "5\n",
            "7\n",
            "Welcome\n",
            "your options are:\n",
            "\n",
            "1) odd or even\n",
            "2) factorial\n",
            "3) odd upto n\n",
            "4) prime upto n\n",
            "5) Quit \n",
            "\n",
            "Choose your option: 5\n",
            "\n",
            "Thank-you \n"
          ],
          "name": "stdout"
        }
      ]
    }
  ]
}