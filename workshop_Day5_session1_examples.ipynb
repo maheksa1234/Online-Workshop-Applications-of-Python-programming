{
  "nbformat": 4,
  "nbformat_minor": 0,
  "metadata": {
    "colab": {
      "name": "workshop Day5 session1 examples",
      "provenance": [],
      "collapsed_sections": [],
      "authorship_tag": "ABX9TyPOJJMMZU+jWhQdjMliZUTP",
      "include_colab_link": true
    },
    "kernelspec": {
      "name": "python3",
      "display_name": "Python 3"
    }
  },
  "cells": [
    {
      "cell_type": "markdown",
      "metadata": {
        "id": "view-in-github",
        "colab_type": "text"
      },
      "source": [
        "<a href=\"https://colab.research.google.com/github/maheksa1234/Online-Workshop-Applications-of-Python-programming/blob/master/workshop_Day5_session1_examples.ipynb\" target=\"_parent\"><img src=\"https://colab.research.google.com/assets/colab-badge.svg\" alt=\"Open In Colab\"/></a>"
      ]
    },
    {
      "cell_type": "markdown",
      "metadata": {
        "id": "XbOs4E3I9xTe",
        "colab_type": "text"
      },
      "source": [
        "#Data Munging, Manipulation, Exploratory analysis using Pandas\n"
      ]
    },
    {
      "cell_type": "code",
      "metadata": {
        "id": "FXxIdSGj8oDb",
        "colab_type": "code",
        "colab": {
          "resources": {
            "http://localhost:8080/nbextensions/google.colab/files.js": {
              "data": "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",
              "ok": true,
              "headers": [
                [
                  "content-type",
                  "application/javascript"
                ]
              ],
              "status": 200,
              "status_text": ""
            }
          },
          "base_uri": "https://localhost:8080/",
          "height": 316
        },
        "outputId": "8539a367-0ce3-4dfb-8596-b8f5afef846d"
      },
      "source": [
        "import pandas as pd \n",
        "import numpy as np \n",
        "#Coding for importing csv files in Google colab \n",
        "from google.colab import files \n",
        "import io \n",
        "uploaded = files.upload() \n",
        "df = pd.read_csv(io.BytesIO(uploaded['loan.csv'])) \n",
        "# Read csv loan.csv into a pandas dataframe \n",
        "# Take a look at the first few rows \n",
        "print(df)\n"
      ],
      "execution_count": null,
      "outputs": [
        {
          "output_type": "display_data",
          "data": {
            "text/html": [
              "\n",
              "     <input type=\"file\" id=\"files-f583a6ee-be5d-4cfe-8c34-a2d996e3e48e\" name=\"files[]\" multiple disabled\n",
              "        style=\"border:none\" />\n",
              "     <output id=\"result-f583a6ee-be5d-4cfe-8c34-a2d996e3e48e\">\n",
              "      Upload widget is only available when the cell has been executed in the\n",
              "      current browser session. Please rerun this cell to enable.\n",
              "      </output>\n",
              "      <script src=\"/nbextensions/google.colab/files.js\"></script> "
            ],
            "text/plain": [
              "<IPython.core.display.HTML object>"
            ]
          },
          "metadata": {
            "tags": []
          }
        },
        {
          "output_type": "stream",
          "text": [
            "Saving loan.csv to loan.csv\n",
            "      Loan_ID Gender Married  ... Loan_Amount_Term Credit_History Property_Area\n",
            "0    LP001015   Male     Yes  ...            360.0            1.0         Urban\n",
            "1    LP001022   Male     Yes  ...            360.0            1.0         Urban\n",
            "2    LP001031   Male     Yes  ...            360.0            1.0         Urban\n",
            "3    LP001035   Male     Yes  ...            360.0            NaN         Urban\n",
            "4    LP001051   Male      No  ...            360.0            1.0         Urban\n",
            "..        ...    ...     ...  ...              ...            ...           ...\n",
            "362  LP002971   Male     Yes  ...            360.0            1.0         Urban\n",
            "363  LP002975   Male     Yes  ...            360.0            1.0         Urban\n",
            "364  LP002980   Male      No  ...            360.0            NaN     Semiurban\n",
            "365  LP002986   Male     Yes  ...            360.0            1.0         Rural\n",
            "366  LP002989   Male      No  ...            180.0            1.0         Rural\n",
            "\n",
            "[367 rows x 12 columns]\n"
          ],
          "name": "stdout"
        }
      ]
    },
    {
      "cell_type": "markdown",
      "metadata": {
        "id": "2GUn1W0X-B_r",
        "colab_type": "text"
      },
      "source": [
        "#To view the rst 10 rows in the dataset\n"
      ]
    },
    {
      "cell_type": "code",
      "metadata": {
        "id": "6gYWMJIJ-Iqa",
        "colab_type": "code",
        "colab": {
          "base_uri": "https://localhost:8080/",
          "height": 87
        },
        "outputId": "b79c8253-3810-4af0-860e-d378af0c3726"
      },
      "source": [
        "df.head(10) \n",
        "df.columns\n"
      ],
      "execution_count": null,
      "outputs": [
        {
          "output_type": "execute_result",
          "data": {
            "text/plain": [
              "Index(['Loan_ID', 'Gender', 'Married', 'Dependents', 'Education',\n",
              "       'Self_Employed', 'ApplicantIncome', 'CoapplicantIncome', 'LoanAmount',\n",
              "       'Loan_Amount_Term', 'Credit_History', 'Property_Area'],\n",
              "      dtype='object')"
            ]
          },
          "metadata": {
            "tags": []
          },
          "execution_count": 2
        }
      ]
    },
    {
      "cell_type": "markdown",
      "metadata": {
        "id": "2OyyPC2_-OEI",
        "colab_type": "text"
      },
      "source": [
        "#To calculate the statistical calculations for all numerical elds\n"
      ]
    },
    {
      "cell_type": "code",
      "metadata": {
        "id": "BaCah2XY-S8H",
        "colab_type": "code",
        "colab": {
          "base_uri": "https://localhost:8080/",
          "height": 294
        },
        "outputId": "92792ca7-b57d-4114-c17a-49a24429c11e"
      },
      "source": [
        "df.describe()\n",
        " "
      ],
      "execution_count": null,
      "outputs": [
        {
          "output_type": "execute_result",
          "data": {
            "text/html": [
              "<div>\n",
              "<style scoped>\n",
              "    .dataframe tbody tr th:only-of-type {\n",
              "        vertical-align: middle;\n",
              "    }\n",
              "\n",
              "    .dataframe tbody tr th {\n",
              "        vertical-align: top;\n",
              "    }\n",
              "\n",
              "    .dataframe thead th {\n",
              "        text-align: right;\n",
              "    }\n",
              "</style>\n",
              "<table border=\"1\" class=\"dataframe\">\n",
              "  <thead>\n",
              "    <tr style=\"text-align: right;\">\n",
              "      <th></th>\n",
              "      <th>ApplicantIncome</th>\n",
              "      <th>CoapplicantIncome</th>\n",
              "      <th>LoanAmount</th>\n",
              "      <th>Loan_Amount_Term</th>\n",
              "      <th>Credit_History</th>\n",
              "    </tr>\n",
              "  </thead>\n",
              "  <tbody>\n",
              "    <tr>\n",
              "      <th>count</th>\n",
              "      <td>367.000000</td>\n",
              "      <td>367.000000</td>\n",
              "      <td>362.000000</td>\n",
              "      <td>361.000000</td>\n",
              "      <td>338.000000</td>\n",
              "    </tr>\n",
              "    <tr>\n",
              "      <th>mean</th>\n",
              "      <td>4805.599455</td>\n",
              "      <td>1569.577657</td>\n",
              "      <td>136.132597</td>\n",
              "      <td>342.537396</td>\n",
              "      <td>0.825444</td>\n",
              "    </tr>\n",
              "    <tr>\n",
              "      <th>std</th>\n",
              "      <td>4910.685399</td>\n",
              "      <td>2334.232099</td>\n",
              "      <td>61.366652</td>\n",
              "      <td>65.156643</td>\n",
              "      <td>0.380150</td>\n",
              "    </tr>\n",
              "    <tr>\n",
              "      <th>min</th>\n",
              "      <td>0.000000</td>\n",
              "      <td>0.000000</td>\n",
              "      <td>28.000000</td>\n",
              "      <td>6.000000</td>\n",
              "      <td>0.000000</td>\n",
              "    </tr>\n",
              "    <tr>\n",
              "      <th>25%</th>\n",
              "      <td>2864.000000</td>\n",
              "      <td>0.000000</td>\n",
              "      <td>100.250000</td>\n",
              "      <td>360.000000</td>\n",
              "      <td>1.000000</td>\n",
              "    </tr>\n",
              "    <tr>\n",
              "      <th>50%</th>\n",
              "      <td>3786.000000</td>\n",
              "      <td>1025.000000</td>\n",
              "      <td>125.000000</td>\n",
              "      <td>360.000000</td>\n",
              "      <td>1.000000</td>\n",
              "    </tr>\n",
              "    <tr>\n",
              "      <th>75%</th>\n",
              "      <td>5060.000000</td>\n",
              "      <td>2430.500000</td>\n",
              "      <td>158.000000</td>\n",
              "      <td>360.000000</td>\n",
              "      <td>1.000000</td>\n",
              "    </tr>\n",
              "    <tr>\n",
              "      <th>max</th>\n",
              "      <td>72529.000000</td>\n",
              "      <td>24000.000000</td>\n",
              "      <td>550.000000</td>\n",
              "      <td>480.000000</td>\n",
              "      <td>1.000000</td>\n",
              "    </tr>\n",
              "  </tbody>\n",
              "</table>\n",
              "</div>"
            ],
            "text/plain": [
              "       ApplicantIncome  CoapplicantIncome  ...  Loan_Amount_Term  Credit_History\n",
              "count       367.000000         367.000000  ...        361.000000      338.000000\n",
              "mean       4805.599455        1569.577657  ...        342.537396        0.825444\n",
              "std        4910.685399        2334.232099  ...         65.156643        0.380150\n",
              "min           0.000000           0.000000  ...          6.000000        0.000000\n",
              "25%        2864.000000           0.000000  ...        360.000000        1.000000\n",
              "50%        3786.000000        1025.000000  ...        360.000000        1.000000\n",
              "75%        5060.000000        2430.500000  ...        360.000000        1.000000\n",
              "max       72529.000000       24000.000000  ...        480.000000        1.000000\n",
              "\n",
              "[8 rows x 5 columns]"
            ]
          },
          "metadata": {
            "tags": []
          },
          "execution_count": 3
        }
      ]
    },
    {
      "cell_type": "markdown",
      "metadata": {
        "id": "7FmGC_wm_ImN",
        "colab_type": "text"
      },
      "source": [
        "#  Distribution analysis using EDA\n",
        "#Analysis on Application income alone using histogram "
      ]
    },
    {
      "cell_type": "code",
      "metadata": {
        "id": "E6uOrsmt_ho9",
        "colab_type": "code",
        "colab": {
          "base_uri": "https://localhost:8080/",
          "height": 283
        },
        "outputId": "8bf6b0fc-26d8-4e68-fcb5-9d169a2f990e"
      },
      "source": [
        "df['ApplicantIncome'].hist(bins=50)\n"
      ],
      "execution_count": null,
      "outputs": [
        {
          "output_type": "execute_result",
          "data": {
            "text/plain": [
              "<matplotlib.axes._subplots.AxesSubplot at 0x7f65d3de19e8>"
            ]
          },
          "metadata": {
            "tags": []
          },
          "execution_count": 4
        },
        {
          "output_type": "display_data",
          "data": {
            "image/png": "[encoded data removed]",
            "text/plain": [
              "<Figure size 432x288 with 1 Axes>"
            ]
          },
          "metadata": {
            "tags": [],
            "needs_background": "light"
          }
        }
      ]
    },
    {
      "cell_type": "markdown",
      "metadata": {
        "id": "SCVKNaLaJeSw",
        "colab_type": "text"
      },
      "source": [
        "#Analysis on Application income alone using boxplot\n",
        " "
      ]
    },
    {
      "cell_type": "code",
      "metadata": {
        "id": "_prlSxAQJiSI",
        "colab_type": "code",
        "colab": {
          "base_uri": "https://localhost:8080/",
          "height": 283
        },
        "outputId": "73b7b630-d796-4900-a87d-06685cce6537"
      },
      "source": [
        "df.boxplot(column='ApplicantIncome')"
      ],
      "execution_count": null,
      "outputs": [
        {
          "output_type": "execute_result",
          "data": {
            "text/plain": [
              "<matplotlib.axes._subplots.AxesSubplot at 0x7f65d3802ba8>"
            ]
          },
          "metadata": {
            "tags": []
          },
          "execution_count": 5
        },
        {
          "output_type": "display_data",
          "data": {
            "image/png": "[encoded data removed]",
            "text/plain": [
              "<Figure size 432x288 with 1 Axes>"
            ]
          },
          "metadata": {
            "tags": [],
            "needs_background": "light"
          }
        }
      ]
    },
    {
      "cell_type": "markdown",
      "metadata": {
        "id": "8zX9lTB_JvwY",
        "colab_type": "text"
      },
      "source": [
        "#Analysis on Application income and Education using boxplot\n"
      ]
    },
    {
      "cell_type": "code",
      "metadata": {
        "id": "y5NpDp1EJ7u0",
        "colab_type": "code",
        "colab": {
          "base_uri": "https://localhost:8080/",
          "height": 319
        },
        "outputId": "ccb5cc4c-d7cc-4b2f-854a-487147349f99"
      },
      "source": [
        "df.boxplot(column='ApplicantIncome', by = 'Education')\n"
      ],
      "execution_count": null,
      "outputs": [
        {
          "output_type": "execute_result",
          "data": {
            "text/plain": [
              "<matplotlib.axes._subplots.AxesSubplot at 0x7f65d3777a58>"
            ]
          },
          "metadata": {
            "tags": []
          },
          "execution_count": 6
        },
        {
          "output_type": "display_data",
          "data": {
            "image/png": "[encoded data removed]",
            "text/plain": [
              "<Figure size 432x288 with 1 Axes>"
            ]
          },
          "metadata": {
            "tags": [],
            "needs_background": "light"
          }
        }
      ]
    },
    {
      "cell_type": "markdown",
      "metadata": {
        "id": "USR_lXx_KAtX",
        "colab_type": "text"
      },
      "source": [
        "#Analysis on Application income and gender using boxplot\n"
      ]
    },
    {
      "cell_type": "code",
      "metadata": {
        "id": "7GzSKS5nKE7k",
        "colab_type": "code",
        "colab": {
          "base_uri": "https://localhost:8080/",
          "height": 319
        },
        "outputId": "96ab3651-305b-4f2f-f583-a91beea162e8"
      },
      "source": [
        "df.boxplot(column='ApplicantIncome', by = 'Gender')\n"
      ],
      "execution_count": null,
      "outputs": [
        {
          "output_type": "execute_result",
          "data": {
            "text/plain": [
              "<matplotlib.axes._subplots.AxesSubplot at 0x7f65d372f390>"
            ]
          },
          "metadata": {
            "tags": []
          },
          "execution_count": 7
        },
        {
          "output_type": "display_data",
          "data": {
            "image/png": "[encoded data removed]",
            "text/plain": [
              "<Figure size 432x288 with 1 Axes>"
            ]
          },
          "metadata": {
            "tags": [],
            "needs_background": "light"
          }
        }
      ]
    },
    {
      "cell_type": "markdown",
      "metadata": {
        "id": "RjqUwLWFKMSz",
        "colab_type": "text"
      },
      "source": [
        "#Analysis on Loan Amount alone using histogram\n",
        " "
      ]
    },
    {
      "cell_type": "code",
      "metadata": {
        "id": "Sm19csfYKQGf",
        "colab_type": "code",
        "colab": {
          "base_uri": "https://localhost:8080/",
          "height": 283
        },
        "outputId": "e3f8e01a-fb38-4faf-a400-93a1287daa6a"
      },
      "source": [
        "df['LoanAmount'].hist(bins=50)"
      ],
      "execution_count": null,
      "outputs": [
        {
          "output_type": "execute_result",
          "data": {
            "text/plain": [
              "<matplotlib.axes._subplots.AxesSubplot at 0x7f65d36ab7f0>"
            ]
          },
          "metadata": {
            "tags": []
          },
          "execution_count": 8
        },
        {
          "output_type": "display_data",
          "data": {
            "image/png": "[encoded data removed]",
            "text/plain": [
              "<Figure size 432x288 with 1 Axes>"
            ]
          },
          "metadata": {
            "tags": [],
            "needs_background": "light"
          }
        }
      ]
    },
    {
      "cell_type": "markdown",
      "metadata": {
        "id": "V1fU4vsiKUUf",
        "colab_type": "text"
      },
      "source": [
        "#Analysis on Gender alone using histogram\n"
      ]
    },
    {
      "cell_type": "code",
      "metadata": {
        "id": "3OCPydZ8KXfd",
        "colab_type": "code",
        "colab": {
          "base_uri": "https://localhost:8080/",
          "height": 287
        },
        "outputId": "c34c48f7-5aee-4d6f-f1e2-f47938d74cb5"
      },
      "source": [
        "df['Gender'].hist(bins=50)\n"
      ],
      "execution_count": null,
      "outputs": [
        {
          "output_type": "execute_result",
          "data": {
            "text/plain": [
              "<matplotlib.axes._subplots.AxesSubplot at 0x7f65d35a7f28>"
            ]
          },
          "metadata": {
            "tags": []
          },
          "execution_count": 9
        },
        {
          "output_type": "display_data",
          "data": {
            "image/png": "[encoded data removed]",
            "text/plain": [
              "<Figure size 432x288 with 1 Axes>"
            ]
          },
          "metadata": {
            "tags": [],
            "needs_background": "light"
          }
        }
      ]
    },
    {
      "cell_type": "markdown",
      "metadata": {
        "id": "YvY0f3UbKblM",
        "colab_type": "text"
      },
      "source": [
        "#Analysis on Loan Amount alone using boxplot\n",
        "\n",
        " \n"
      ]
    },
    {
      "cell_type": "code",
      "metadata": {
        "id": "AGiD_jMmKixU",
        "colab_type": "code",
        "colab": {
          "base_uri": "https://localhost:8080/",
          "height": 283
        },
        "outputId": "157f0894-1722-4e3d-c76f-98ec88a6eb6d"
      },
      "source": [
        "df.boxplot(column='LoanAmount')"
      ],
      "execution_count": null,
      "outputs": [
        {
          "output_type": "execute_result",
          "data": {
            "text/plain": [
              "<matplotlib.axes._subplots.AxesSubplot at 0x7f65d35bbc50>"
            ]
          },
          "metadata": {
            "tags": []
          },
          "execution_count": 10
        },
        {
          "output_type": "display_data",
          "data": {
            "image/png": "[encoded data removed]",
            "text/plain": [
              "<Figure size 432x288 with 1 Axes>"
            ]
          },
          "metadata": {
            "tags": [],
            "needs_background": "light"
          }
        }
      ]
    },
    {
      "cell_type": "markdown",
      "metadata": {
        "id": "ZMrVq-SWKrqd",
        "colab_type": "text"
      },
      "source": [
        "#Analysis on Loan Amount and gender using boxplot\n"
      ]
    },
    {
      "cell_type": "code",
      "metadata": {
        "id": "4BYkyasJKuiI",
        "colab_type": "code",
        "colab": {
          "base_uri": "https://localhost:8080/",
          "height": 319
        },
        "outputId": "1a4a0016-e8f2-406a-f1a4-f71ee0440f3f"
      },
      "source": [
        "df.boxplot(column='LoanAmount', by = 'Gender')\n"
      ],
      "execution_count": null,
      "outputs": [
        {
          "output_type": "execute_result",
          "data": {
            "text/plain": [
              "<matplotlib.axes._subplots.AxesSubplot at 0x7f65d343c828>"
            ]
          },
          "metadata": {
            "tags": []
          },
          "execution_count": 11
        },
        {
          "output_type": "display_data",
          "data": {
            "image/png": "[encoded data removed]",
            "text/plain": [
              "<Figure size 432x288 with 1 Axes>"
            ]
          },
          "metadata": {
            "tags": [],
            "needs_background": "light"
          }
        }
      ]
    },
    {
      "cell_type": "markdown",
      "metadata": {
        "id": "ppMgutfAKyWE",
        "colab_type": "text"
      },
      "source": [
        "#Categorical variable analysis\n"
      ]
    },
    {
      "cell_type": "code",
      "metadata": {
        "id": "dY7P4wytK2C3",
        "colab_type": "code",
        "colab": {
          "base_uri": "https://localhost:8080/",
          "height": 156
        },
        "outputId": "ee0be37b-a3ae-4e67-e3d7-3931fe938a25"
      },
      "source": [
        "print ('Frequency Table for Credit History:') \n",
        "temp1=df['Credit_History'].value_counts(ascending=True) \n",
        "print(temp1)  \n",
        " \n",
        "print ('Frequency Table for Education:') \n",
        "temp2=df['Education'].value_counts(ascending=True) \n",
        "print(temp2) "
      ],
      "execution_count": null,
      "outputs": [
        {
          "output_type": "stream",
          "text": [
            "Frequency Table for Credit History:\n",
            "0.0     59\n",
            "1.0    279\n",
            "Name: Credit_History, dtype: int64\n",
            "Frequency Table for Education:\n",
            "Not Graduate     84\n",
            "Graduate        283\n",
            "Name: Education, dtype: int64\n"
          ],
          "name": "stdout"
        }
      ]
    },
    {
      "cell_type": "markdown",
      "metadata": {
        "id": "8pfZssqpLBw0",
        "colab_type": "text"
      },
      "source": [
        "#Applicants by Credit_History Analysis\n"
      ]
    },
    {
      "cell_type": "code",
      "metadata": {
        "id": "asRXN6Z-LGqP",
        "colab_type": "code",
        "colab": {
          "base_uri": "https://localhost:8080/",
          "height": 319
        },
        "outputId": "4c6a316f-7be8-4938-f940-3ee588737898"
      },
      "source": [
        "import matplotlib.pyplot as plt \n",
        "fig = plt.figure(figsize=(8,4))\n",
        "#applicants by credit history \n",
        "ax1 = fig.add_subplot(121) \n",
        "ax1.set_xlabel('Credit_History') \n",
        "ax1.set_ylabel('Count of Applicants')\n",
        "ax1.set_title(\"Applicants by Credit_History\") \n",
        "temp1.plot(kind='bar')\n",
        " "
      ],
      "execution_count": null,
      "outputs": [
        {
          "output_type": "execute_result",
          "data": {
            "text/plain": [
              "<matplotlib.axes._subplots.AxesSubplot at 0x7f65d3467ba8>"
            ]
          },
          "metadata": {
            "tags": []
          },
          "execution_count": 16
        },
        {
          "output_type": "display_data",
          "data": {
            "image/png": "[encoded data removed]",
            "text/plain": [
              "<Figure size 576x288 with 1 Axes>"
            ]
          },
          "metadata": {
            "tags": [],
            "needs_background": "light"
          }
        }
      ]
    },
    {
      "cell_type": "markdown",
      "metadata": {
        "id": "4vtlVql8Lrev",
        "colab_type": "text"
      },
      "source": [
        "#Applicants by Credit_History Analysis and Applicants by Education Analysis both hand in hand\n"
      ]
    },
    {
      "cell_type": "code",
      "metadata": {
        "id": "zheFHt-pLwXj",
        "colab_type": "code",
        "colab": {
          "base_uri": "https://localhost:8080/",
          "height": 388
        },
        "outputId": "fd55ba40-78b5-4941-da01-07bb3d57e82f"
      },
      "source": [
        "import matplotlib.pyplot as plt \n",
        "fig = plt.figure(figsize=(8,4))\n",
        " \n",
        "#applicants by credit history \n",
        "ax1 = fig.add_subplot(121) \n",
        "ax1.set_xlabel('Credit_History') \n",
        "ax1.set_ylabel('Count of Applicants') \n",
        "ax1.set_title(\"Applicants by Credit_History\") \n",
        "temp1.plot(kind='bar') \n",
        "print('')\n",
        " \n",
        "#applicants by education \n",
        "ax2 = fig.add_subplot(122) \n",
        "ax2.set_xlabel('Education') \n",
        "ax2.set_ylabel('Count of Applicants') \n",
        "ax2.set_title(\"Applicants by  Education\") \n",
        "temp2.plot(kind='bar')\n",
        " "
      ],
      "execution_count": null,
      "outputs": [
        {
          "output_type": "stream",
          "text": [
            "\n"
          ],
          "name": "stdout"
        },
        {
          "output_type": "execute_result",
          "data": {
            "text/plain": [
              "<matplotlib.axes._subplots.AxesSubplot at 0x7f65d32d8160>"
            ]
          },
          "metadata": {
            "tags": []
          },
          "execution_count": 18
        },
        {
          "output_type": "display_data",
          "data": {
            "image/png": "[encoded data removed]",
            "text/plain": [
              "<Figure size 576x288 with 2 Axes>"
            ]
          },
          "metadata": {
            "tags": [],
            "needs_background": "light"
          }
        }
      ]
    },
    {
      "cell_type": "markdown",
      "metadata": {
        "id": "AvdJ_k18MBUf",
        "colab_type": "text"
      },
      "source": [
        "#Check missing values in the dataset\n"
      ]
    },
    {
      "cell_type": "code",
      "metadata": {
        "id": "RVzB2FEeMEyf",
        "colab_type": "code",
        "colab": {
          "base_uri": "https://localhost:8080/",
          "height": 243
        },
        "outputId": "5f6fcf7f-369c-4201-d81e-f333ff2a0be8"
      },
      "source": [
        "df.apply(lambda x: sum(x.isnull()),axis=0) "
      ],
      "execution_count": null,
      "outputs": [
        {
          "output_type": "execute_result",
          "data": {
            "text/plain": [
              "Loan_ID               0\n",
              "Gender               11\n",
              "Married               0\n",
              "Dependents           10\n",
              "Education             0\n",
              "Self_Employed        23\n",
              "ApplicantIncome       0\n",
              "CoapplicantIncome     0\n",
              "LoanAmount            5\n",
              "Loan_Amount_Term      6\n",
              "Credit_History       29\n",
              "Property_Area         0\n",
              "dtype: int64"
            ]
          },
          "metadata": {
            "tags": []
          },
          "execution_count": 19
        }
      ]
    },
    {
      "cell_type": "markdown",
      "metadata": {
        "id": "ajiytDANMJcD",
        "colab_type": "text"
      },
      "source": [
        "#replacing missing loan amount with mean of the loanamount\n"
      ]
    },
    {
      "cell_type": "code",
      "metadata": {
        "id": "rflmk-N3MPua",
        "colab_type": "code",
        "colab": {}
      },
      "source": [
        "df['LoanAmount'].fillna(df['LoanAmount'].mean(), inplace=True)"
      ],
      "execution_count": null,
      "outputs": []
    },
    {
      "cell_type": "markdown",
      "metadata": {
        "id": "-08lB1xLM5Nu",
        "colab_type": "text"
      },
      "source": [
        "#viewing the data set\n"
      ]
    },
    {
      "cell_type": "code",
      "metadata": {
        "id": "1luxdWl6M2bQ",
        "colab_type": "code",
        "colab": {
          "base_uri": "https://localhost:8080/",
          "height": 470
        },
        "outputId": "412c247d-2e93-4ca8-a95c-9f2678994bba"
      },
      "source": [
        "df\n"
      ],
      "execution_count": null,
      "outputs": [
        {
          "output_type": "execute_result",
          "data": {
            "text/html": [
              "<div>\n",
              "<style scoped>\n",
              "    .dataframe tbody tr th:only-of-type {\n",
              "        vertical-align: middle;\n",
              "    }\n",
              "\n",
              "    .dataframe tbody tr th {\n",
              "        vertical-align: top;\n",
              "    }\n",
              "\n",
              "    .dataframe thead th {\n",
              "        text-align: right;\n",
              "    }\n",
              "</style>\n",
              "<table border=\"1\" class=\"dataframe\">\n",
              "  <thead>\n",
              "    <tr style=\"text-align: right;\">\n",
              "      <th></th>\n",
              "      <th>Loan_ID</th>\n",
              "      <th>Gender</th>\n",
              "      <th>Married</th>\n",
              "      <th>Dependents</th>\n",
              "      <th>Education</th>\n",
              "      <th>Self_Employed</th>\n",
              "      <th>ApplicantIncome</th>\n",
              "      <th>CoapplicantIncome</th>\n",
              "      <th>LoanAmount</th>\n",
              "      <th>Loan_Amount_Term</th>\n",
              "      <th>Credit_History</th>\n",
              "      <th>Property_Area</th>\n",
              "    </tr>\n",
              "  </thead>\n",
              "  <tbody>\n",
              "    <tr>\n",
              "      <th>0</th>\n",
              "      <td>LP001015</td>\n",
              "      <td>Male</td>\n",
              "      <td>Yes</td>\n",
              "      <td>0</td>\n",
              "      <td>Graduate</td>\n",
              "      <td>No</td>\n",
              "      <td>5720</td>\n",
              "      <td>0</td>\n",
              "      <td>110.0</td>\n",
              "      <td>360.0</td>\n",
              "      <td>1.0</td>\n",
              "      <td>Urban</td>\n",
              "    </tr>\n",
              "    <tr>\n",
              "      <th>1</th>\n",
              "      <td>LP001022</td>\n",
              "      <td>Male</td>\n",
              "      <td>Yes</td>\n",
              "      <td>1</td>\n",
              "      <td>Graduate</td>\n",
              "      <td>No</td>\n",
              "      <td>3076</td>\n",
              "      <td>1500</td>\n",
              "      <td>126.0</td>\n",
              "      <td>360.0</td>\n",
              "      <td>1.0</td>\n",
              "      <td>Urban</td>\n",
              "    </tr>\n",
              "    <tr>\n",
              "      <th>2</th>\n",
              "      <td>LP001031</td>\n",
              "      <td>Male</td>\n",
              "      <td>Yes</td>\n",
              "      <td>2</td>\n",
              "      <td>Graduate</td>\n",
              "      <td>No</td>\n",
              "      <td>5000</td>\n",
              "      <td>1800</td>\n",
              "      <td>208.0</td>\n",
              "      <td>360.0</td>\n",
              "      <td>1.0</td>\n",
              "      <td>Urban</td>\n",
              "    </tr>\n",
              "    <tr>\n",
              "      <th>3</th>\n",
              "      <td>LP001035</td>\n",
              "      <td>Male</td>\n",
              "      <td>Yes</td>\n",
              "      <td>2</td>\n",
              "      <td>Graduate</td>\n",
              "      <td>No</td>\n",
              "      <td>2340</td>\n",
              "      <td>2546</td>\n",
              "      <td>100.0</td>\n",
              "      <td>360.0</td>\n",
              "      <td>NaN</td>\n",
              "      <td>Urban</td>\n",
              "    </tr>\n",
              "    <tr>\n",
              "      <th>4</th>\n",
              "      <td>LP001051</td>\n",
              "      <td>Male</td>\n",
              "      <td>No</td>\n",
              "      <td>0</td>\n",
              "      <td>Not Graduate</td>\n",
              "      <td>No</td>\n",
              "      <td>3276</td>\n",
              "      <td>0</td>\n",
              "      <td>78.0</td>\n",
              "      <td>360.0</td>\n",
              "      <td>1.0</td>\n",
              "      <td>Urban</td>\n",
              "    </tr>\n",
              "    <tr>\n",
              "      <th>...</th>\n",
              "      <td>...</td>\n",
              "      <td>...</td>\n",
              "      <td>...</td>\n",
              "      <td>...</td>\n",
              "      <td>...</td>\n",
              "      <td>...</td>\n",
              "      <td>...</td>\n",
              "      <td>...</td>\n",
              "      <td>...</td>\n",
              "      <td>...</td>\n",
              "      <td>...</td>\n",
              "      <td>...</td>\n",
              "    </tr>\n",
              "    <tr>\n",
              "      <th>362</th>\n",
              "      <td>LP002971</td>\n",
              "      <td>Male</td>\n",
              "      <td>Yes</td>\n",
              "      <td>3+</td>\n",
              "      <td>Not Graduate</td>\n",
              "      <td>Yes</td>\n",
              "      <td>4009</td>\n",
              "      <td>1777</td>\n",
              "      <td>113.0</td>\n",
              "      <td>360.0</td>\n",
              "      <td>1.0</td>\n",
              "      <td>Urban</td>\n",
              "    </tr>\n",
              "    <tr>\n",
              "      <th>363</th>\n",
              "      <td>LP002975</td>\n",
              "      <td>Male</td>\n",
              "      <td>Yes</td>\n",
              "      <td>0</td>\n",
              "      <td>Graduate</td>\n",
              "      <td>No</td>\n",
              "      <td>4158</td>\n",
              "      <td>709</td>\n",
              "      <td>115.0</td>\n",
              "      <td>360.0</td>\n",
              "      <td>1.0</td>\n",
              "      <td>Urban</td>\n",
              "    </tr>\n",
              "    <tr>\n",
              "      <th>364</th>\n",
              "      <td>LP002980</td>\n",
              "      <td>Male</td>\n",
              "      <td>No</td>\n",
              "      <td>0</td>\n",
              "      <td>Graduate</td>\n",
              "      <td>No</td>\n",
              "      <td>3250</td>\n",
              "      <td>1993</td>\n",
              "      <td>126.0</td>\n",
              "      <td>360.0</td>\n",
              "      <td>NaN</td>\n",
              "      <td>Semiurban</td>\n",
              "    </tr>\n",
              "    <tr>\n",
              "      <th>365</th>\n",
              "      <td>LP002986</td>\n",
              "      <td>Male</td>\n",
              "      <td>Yes</td>\n",
              "      <td>0</td>\n",
              "      <td>Graduate</td>\n",
              "      <td>No</td>\n",
              "      <td>5000</td>\n",
              "      <td>2393</td>\n",
              "      <td>158.0</td>\n",
              "      <td>360.0</td>\n",
              "      <td>1.0</td>\n",
              "      <td>Rural</td>\n",
              "    </tr>\n",
              "    <tr>\n",
              "      <th>366</th>\n",
              "      <td>LP002989</td>\n",
              "      <td>Male</td>\n",
              "      <td>No</td>\n",
              "      <td>0</td>\n",
              "      <td>Graduate</td>\n",
              "      <td>Yes</td>\n",
              "      <td>9200</td>\n",
              "      <td>0</td>\n",
              "      <td>98.0</td>\n",
              "      <td>180.0</td>\n",
              "      <td>1.0</td>\n",
              "      <td>Rural</td>\n",
              "    </tr>\n",
              "  </tbody>\n",
              "</table>\n",
              "<p>367 rows × 12 columns</p>\n",
              "</div>"
            ],
            "text/plain": [
              "      Loan_ID Gender Married  ... Loan_Amount_Term Credit_History Property_Area\n",
              "0    LP001015   Male     Yes  ...            360.0            1.0         Urban\n",
              "1    LP001022   Male     Yes  ...            360.0            1.0         Urban\n",
              "2    LP001031   Male     Yes  ...            360.0            1.0         Urban\n",
              "3    LP001035   Male     Yes  ...            360.0            NaN         Urban\n",
              "4    LP001051   Male      No  ...            360.0            1.0         Urban\n",
              "..        ...    ...     ...  ...              ...            ...           ...\n",
              "362  LP002971   Male     Yes  ...            360.0            1.0         Urban\n",
              "363  LP002975   Male     Yes  ...            360.0            1.0         Urban\n",
              "364  LP002980   Male      No  ...            360.0            NaN     Semiurban\n",
              "365  LP002986   Male     Yes  ...            360.0            1.0         Rural\n",
              "366  LP002989   Male      No  ...            180.0            1.0         Rural\n",
              "\n",
              "[367 rows x 12 columns]"
            ]
          },
          "metadata": {
            "tags": []
          },
          "execution_count": 22
        }
      ]
    },
    {
      "cell_type": "markdown",
      "metadata": {
        "id": "RWGONqLUNILZ",
        "colab_type": "text"
      },
      "source": [
        "#once1 again checking empty values"
      ]
    },
    {
      "cell_type": "code",
      "metadata": {
        "id": "9WyRIzTDNfCs",
        "colab_type": "code",
        "colab": {
          "base_uri": "https://localhost:8080/",
          "height": 243
        },
        "outputId": "bafbcb34-689d-4aa3-dcd8-a861474b21e2"
      },
      "source": [
        "df.apply(lambda x: sum(x.isnull()),axis=0) "
      ],
      "execution_count": null,
      "outputs": [
        {
          "output_type": "execute_result",
          "data": {
            "text/plain": [
              "Loan_ID               0\n",
              "Gender               11\n",
              "Married               0\n",
              "Dependents           10\n",
              "Education             0\n",
              "Self_Employed        23\n",
              "ApplicantIncome       0\n",
              "CoapplicantIncome     0\n",
              "LoanAmount            0\n",
              "Loan_Amount_Term      6\n",
              "Credit_History       29\n",
              "Property_Area         0\n",
              "dtype: int64"
            ]
          },
          "metadata": {
            "tags": []
          },
          "execution_count": 23
        }
      ]
    },
    {
      "cell_type": "markdown",
      "metadata": {
        "id": "SSVg0yPINmZM",
        "colab_type": "text"
      },
      "source": [
        "#checking Self_Employed\n"
      ]
    },
    {
      "cell_type": "code",
      "metadata": {
        "id": "U19-JyGqNngt",
        "colab_type": "code",
        "colab": {
          "base_uri": "https://localhost:8080/",
          "height": 69
        },
        "outputId": "25b18c32-171b-4daa-ae4c-4448d0c013fb"
      },
      "source": [
        "df['Self_Employed'].value_counts()\n"
      ],
      "execution_count": null,
      "outputs": [
        {
          "output_type": "execute_result",
          "data": {
            "text/plain": [
              "No     307\n",
              "Yes     37\n",
              "Name: Self_Employed, dtype: int64"
            ]
          },
          "metadata": {
            "tags": []
          },
          "execution_count": 24
        }
      ]
    },
    {
      "cell_type": "markdown",
      "metadata": {
        "id": "bFITJYBDNt4o",
        "colab_type": "text"
      },
      "source": [
        "#As No is dominating, replacing the empty values with No\n",
        " "
      ]
    },
    {
      "cell_type": "code",
      "metadata": {
        "id": "PaxUY1waNxzS",
        "colab_type": "code",
        "colab": {}
      },
      "source": [
        "df['Self_Employed'].fillna('No',inplace=True)\n"
      ],
      "execution_count": null,
      "outputs": []
    },
    {
      "cell_type": "markdown",
      "metadata": {
        "id": "gfs_-bGqN6P6",
        "colab_type": "text"
      },
      "source": [
        "#checking Self_Employed once again\n"
      ]
    },
    {
      "cell_type": "code",
      "metadata": {
        "id": "A6N2riwHN_gQ",
        "colab_type": "code",
        "colab": {
          "base_uri": "https://localhost:8080/",
          "height": 69
        },
        "outputId": "2ea92a43-465e-48a5-ced1-f0d19acaaae3"
      },
      "source": [
        "df['Self_Employed'].value_counts()"
      ],
      "execution_count": null,
      "outputs": [
        {
          "output_type": "execute_result",
          "data": {
            "text/plain": [
              "No     330\n",
              "Yes     37\n",
              "Name: Self_Employed, dtype: int64"
            ]
          },
          "metadata": {
            "tags": []
          },
          "execution_count": 26
        }
      ]
    },
    {
      "cell_type": "markdown",
      "metadata": {
        "id": "WIjwPH4uODkg",
        "colab_type": "text"
      },
      "source": [
        "#checking Dependents\n"
      ]
    },
    {
      "cell_type": "markdown",
      "metadata": {
        "id": "6uA3GzhqHvin",
        "colab_type": "text"
      },
      "source": [
        "#As 0 is dominating , replace empty values with 0"
      ]
    },
    {
      "cell_type": "code",
      "metadata": {
        "id": "NGde_0fIHxkx",
        "colab_type": "code",
        "colab": {}
      },
      "source": [
        "df['Dependents'].fillna('0',inplace=True)\n"
      ],
      "execution_count": null,
      "outputs": []
    },
    {
      "cell_type": "markdown",
      "metadata": {
        "id": "bCOBKjCoH4mb",
        "colab_type": "text"
      },
      "source": [
        "#once again checking Dependents"
      ]
    },
    {
      "cell_type": "code",
      "metadata": {
        "id": "xpySabDpH6c_",
        "colab_type": "code",
        "colab": {
          "base_uri": "https://localhost:8080/",
          "height": 105
        },
        "outputId": "709f64cb-41d7-48bc-f375-3a81c74da691"
      },
      "source": [
        "df['Dependents'].value_counts()"
      ],
      "execution_count": null,
      "outputs": [
        {
          "output_type": "execute_result",
          "data": {
            "text/plain": [
              "0     210\n",
              "2      59\n",
              "1      58\n",
              "3+     40\n",
              "Name: Dependents, dtype: int64"
            ]
          },
          "metadata": {
            "tags": []
          },
          "execution_count": 23
        }
      ]
    },
    {
      "cell_type": "markdown",
      "metadata": {
        "id": "dAM09G3fH_Ui",
        "colab_type": "text"
      },
      "source": [
        "#once again checking empty values"
      ]
    },
    {
      "cell_type": "code",
      "metadata": {
        "id": "hRmggG3uH_pK",
        "colab_type": "code",
        "colab": {
          "base_uri": "https://localhost:8080/",
          "height": 247
        },
        "outputId": "282de9d9-4d35-4cae-bb0a-55d652711358"
      },
      "source": [
        "df.apply(lambda x: sum(x.isnull()),axis=0) "
      ],
      "execution_count": null,
      "outputs": [
        {
          "output_type": "execute_result",
          "data": {
            "text/plain": [
              "Loan_ID               0\n",
              "Gender               11\n",
              "Married               0\n",
              "Dependents            0\n",
              "Education             0\n",
              "Self_Employed         0\n",
              "ApplicantIncome       0\n",
              "CoapplicantIncome     0\n",
              "LoanAmount            0\n",
              "Loan_Amount_Term      6\n",
              "Credit_History       29\n",
              "Property_Area         0\n",
              "dtype: int64"
            ]
          },
          "metadata": {
            "tags": []
          },
          "execution_count": 24
        }
      ]
    },
    {
      "cell_type": "markdown",
      "metadata": {
        "id": "WtalAvuVIM1y",
        "colab_type": "text"
      },
      "source": [
        "#checking Gender"
      ]
    },
    {
      "cell_type": "code",
      "metadata": {
        "id": "PqfJSaNvIOd7",
        "colab_type": "code",
        "colab": {
          "base_uri": "https://localhost:8080/",
          "height": 70
        },
        "outputId": "c8785bea-659d-4a05-909b-10fa9e9315d2"
      },
      "source": [
        "df['Gender'].value_counts()\n"
      ],
      "execution_count": null,
      "outputs": [
        {
          "output_type": "execute_result",
          "data": {
            "text/plain": [
              "Male      286\n",
              "Female     70\n",
              "Name: Gender, dtype: int64"
            ]
          },
          "metadata": {
            "tags": []
          },
          "execution_count": 25
        }
      ]
    },
    {
      "cell_type": "markdown",
      "metadata": {
        "id": "s7W1qlp_IXGd",
        "colab_type": "text"
      },
      "source": [
        "#male is dominated with 80% so replace empty values with\n",
        "Male"
      ]
    },
    {
      "cell_type": "code",
      "metadata": {
        "id": "KcCQp0CCIXX5",
        "colab_type": "code",
        "colab": {}
      },
      "source": [
        "df['Gender'].fillna('Male',inplace=True)"
      ],
      "execution_count": null,
      "outputs": []
    },
    {
      "cell_type": "markdown",
      "metadata": {
        "id": "VplxP-3oIfM2",
        "colab_type": "text"
      },
      "source": [
        "#once again checking Gender"
      ]
    },
    {
      "cell_type": "code",
      "metadata": {
        "id": "64v7UlVjIfmU",
        "colab_type": "code",
        "colab": {
          "base_uri": "https://localhost:8080/",
          "height": 70
        },
        "outputId": "d88aed78-1cd6-4e89-df89-f4160b5a345b"
      },
      "source": [
        "df['Gender'].value_counts()"
      ],
      "execution_count": null,
      "outputs": [
        {
          "output_type": "execute_result",
          "data": {
            "text/plain": [
              "Male      297\n",
              "Female     70\n",
              "Name: Gender, dtype: int64"
            ]
          },
          "metadata": {
            "tags": []
          },
          "execution_count": 27
        }
      ]
    },
    {
      "cell_type": "markdown",
      "metadata": {
        "id": "Smjl2B2NImi1",
        "colab_type": "text"
      },
      "source": [
        "#once again checking empty values"
      ]
    },
    {
      "cell_type": "code",
      "metadata": {
        "id": "Fjhx-B7qIm3y",
        "colab_type": "code",
        "colab": {
          "base_uri": "https://localhost:8080/",
          "height": 247
        },
        "outputId": "243c1c12-d16f-4394-a537-8bc27157da8b"
      },
      "source": [
        "df.apply(lambda x: sum(x.isnull()),axis=0)"
      ],
      "execution_count": null,
      "outputs": [
        {
          "output_type": "execute_result",
          "data": {
            "text/plain": [
              "Loan_ID               0\n",
              "Gender                0\n",
              "Married               0\n",
              "Dependents            0\n",
              "Education             0\n",
              "Self_Employed         0\n",
              "ApplicantIncome       0\n",
              "CoapplicantIncome     0\n",
              "LoanAmount            0\n",
              "Loan_Amount_Term      6\n",
              "Credit_History       29\n",
              "Property_Area         0\n",
              "dtype: int64"
            ]
          },
          "metadata": {
            "tags": []
          },
          "execution_count": 28
        }
      ]
    },
    {
      "cell_type": "markdown",
      "metadata": {
        "id": "bo1_9016ItFU",
        "colab_type": "text"
      },
      "source": [
        "#checking Loan_Amount_Term"
      ]
    },
    {
      "cell_type": "code",
      "metadata": {
        "id": "aMY7tQl-ItbQ",
        "colab_type": "code",
        "colab": {
          "base_uri": "https://localhost:8080/",
          "height": 247
        },
        "outputId": "94b78eac-8ee4-4bf8-c9c5-b16d2dc7387e"
      },
      "source": [
        "df['Loan_Amount_Term'].value_counts()"
      ],
      "execution_count": null,
      "outputs": [
        {
          "output_type": "execute_result",
          "data": {
            "text/plain": [
              "360.0    311\n",
              "180.0     22\n",
              "480.0      8\n",
              "300.0      7\n",
              "240.0      4\n",
              "84.0       3\n",
              "6.0        1\n",
              "120.0      1\n",
              "36.0       1\n",
              "350.0      1\n",
              "12.0       1\n",
              "60.0       1\n",
              "Name: Loan_Amount_Term, dtype: int64"
            ]
          },
          "metadata": {
            "tags": []
          },
          "execution_count": 29
        }
      ]
    },
    {
      "cell_type": "markdown",
      "metadata": {
        "id": "OQ4ClnQSIzX8",
        "colab_type": "text"
      },
      "source": [
        "#As Loan_Amount_Term=360 is dominating,replace empty\n",
        "values with 360"
      ]
    },
    {
      "cell_type": "code",
      "metadata": {
        "id": "goTNQBgmIz3D",
        "colab_type": "code",
        "colab": {}
      },
      "source": [
        "df['Loan_Amount_Term'].fillna(360.0,inplace=True)"
      ],
      "execution_count": null,
      "outputs": []
    },
    {
      "cell_type": "markdown",
      "metadata": {
        "id": "CpGsIAy0I7vY",
        "colab_type": "text"
      },
      "source": [
        "#checking Loan_Amount_Term"
      ]
    },
    {
      "cell_type": "code",
      "metadata": {
        "id": "oIpuw5gTI8Di",
        "colab_type": "code",
        "colab": {
          "base_uri": "https://localhost:8080/",
          "height": 247
        },
        "outputId": "08ad8c0a-67b1-4b88-8d82-5c9aeff6fa6b"
      },
      "source": [
        "df['Loan_Amount_Term'].value_counts()"
      ],
      "execution_count": null,
      "outputs": [
        {
          "output_type": "execute_result",
          "data": {
            "text/plain": [
              "360.0    317\n",
              "180.0     22\n",
              "480.0      8\n",
              "300.0      7\n",
              "240.0      4\n",
              "84.0       3\n",
              "6.0        1\n",
              "120.0      1\n",
              "36.0       1\n",
              "350.0      1\n",
              "12.0       1\n",
              "60.0       1\n",
              "Name: Loan_Amount_Term, dtype: int64"
            ]
          },
          "metadata": {
            "tags": []
          },
          "execution_count": 31
        }
      ]
    },
    {
      "cell_type": "markdown",
      "metadata": {
        "id": "J_Gv8ROjJEAk",
        "colab_type": "text"
      },
      "source": [
        "#once again checking empty values"
      ]
    },
    {
      "cell_type": "code",
      "metadata": {
        "id": "S60BxFspJEQq",
        "colab_type": "code",
        "colab": {
          "base_uri": "https://localhost:8080/",
          "height": 247
        },
        "outputId": "dd557b4e-6a79-4f7a-84af-4c47eda1bddd"
      },
      "source": [
        "df.apply(lambda x: sum(x.isnull()),axis=0)"
      ],
      "execution_count": null,
      "outputs": [
        {
          "output_type": "execute_result",
          "data": {
            "text/plain": [
              "Loan_ID               0\n",
              "Gender                0\n",
              "Married               0\n",
              "Dependents            0\n",
              "Education             0\n",
              "Self_Employed         0\n",
              "ApplicantIncome       0\n",
              "CoapplicantIncome     0\n",
              "LoanAmount            0\n",
              "Loan_Amount_Term      0\n",
              "Credit_History       29\n",
              "Property_Area         0\n",
              "dtype: int64"
            ]
          },
          "metadata": {
            "tags": []
          },
          "execution_count": 32
        }
      ]
    },
    {
      "cell_type": "markdown",
      "metadata": {
        "id": "Gv1wlSsKJKo9",
        "colab_type": "text"
      },
      "source": [
        "#checking Credit_History"
      ]
    },
    {
      "cell_type": "code",
      "metadata": {
        "id": "YDgDSi4yJK_U",
        "colab_type": "code",
        "colab": {
          "base_uri": "https://localhost:8080/",
          "height": 70
        },
        "outputId": "5310ac2b-18a0-482b-d64d-03b4c4019653"
      },
      "source": [
        "df['Credit_History'].value_counts()"
      ],
      "execution_count": null,
      "outputs": [
        {
          "output_type": "execute_result",
          "data": {
            "text/plain": [
              "1.0    279\n",
              "0.0     59\n",
              "Name: Credit_History, dtype: int64"
            ]
          },
          "metadata": {
            "tags": []
          },
          "execution_count": 33
        }
      ]
    },
    {
      "cell_type": "markdown",
      "metadata": {
        "id": "JY8QLLChJQ9l",
        "colab_type": "text"
      },
      "source": [
        "#yes (1.0) is dominating"
      ]
    },
    {
      "cell_type": "code",
      "metadata": {
        "id": "yQctC_pyJRO0",
        "colab_type": "code",
        "colab": {}
      },
      "source": [
        "df['Credit_History'].fillna(1.0,inplace=True)\n"
      ],
      "execution_count": null,
      "outputs": []
    },
    {
      "cell_type": "markdown",
      "metadata": {
        "id": "F8QdSlosJcAr",
        "colab_type": "text"
      },
      "source": [
        "#once again checking empty values"
      ]
    },
    {
      "cell_type": "code",
      "metadata": {
        "id": "6Z0IRZM0JcTf",
        "colab_type": "code",
        "colab": {
          "base_uri": "https://localhost:8080/",
          "height": 247
        },
        "outputId": "c1f66292-ee6a-42f6-ab68-b52cbf1dad25"
      },
      "source": [
        "df.apply(lambda x: sum(x.isnull()),axis=0) "
      ],
      "execution_count": null,
      "outputs": [
        {
          "output_type": "execute_result",
          "data": {
            "text/plain": [
              "Loan_ID              0\n",
              "Gender               0\n",
              "Married              0\n",
              "Dependents           0\n",
              "Education            0\n",
              "Self_Employed        0\n",
              "ApplicantIncome      0\n",
              "CoapplicantIncome    0\n",
              "LoanAmount           0\n",
              "Loan_Amount_Term     0\n",
              "Credit_History       0\n",
              "Property_Area        0\n",
              "dtype: int64"
            ]
          },
          "metadata": {
            "tags": []
          },
          "execution_count": 36
        }
      ]
    },
    {
      "cell_type": "markdown",
      "metadata": {
        "id": "1ZGBnaLZJqeM",
        "colab_type": "text"
      },
      "source": [
        "#Finally all missing values are clear\n",
        "#Then go to the next phase of normalization\n",
        "#how to treat for extreme values in distribution of\n",
        "#LoanAmount and ApplicantIncome"
      ]
    },
    {
      "cell_type": "code",
      "metadata": {
        "id": "0ymtdvD8JquM",
        "colab_type": "code",
        "colab": {
          "base_uri": "https://localhost:8080/",
          "height": 282
        },
        "outputId": "634013ab-e252-49ad-9ab5-c98140aa8032"
      },
      "source": [
        "df['LoanAmount'].hist(bins=10)"
      ],
      "execution_count": null,
      "outputs": [
        {
          "output_type": "execute_result",
          "data": {
            "text/plain": [
              "<matplotlib.axes._subplots.AxesSubplot at 0x7fecd008e550>"
            ]
          },
          "metadata": {
            "tags": []
          },
          "execution_count": 37
        },
        {
          "output_type": "display_data",
          "data": {
            "image/png": "[encoded data removed]",
            "text/plain": [
              "<Figure size 432x288 with 1 Axes>"
            ]
          },
          "metadata": {
            "tags": [],
            "needs_background": "light"
          }
        }
      ]
    },
    {
      "cell_type": "markdown",
      "metadata": {
        "id": "G-e2CgBAJ-wA",
        "colab_type": "text"
      },
      "source": [
        "#creating LoanAmount_log column to treate outliers and\n",
        "#extreme values"
      ]
    },
    {
      "cell_type": "code",
      "metadata": {
        "id": "d75SWf0iJ_IM",
        "colab_type": "code",
        "colab": {
          "base_uri": "https://localhost:8080/",
          "height": 282
        },
        "outputId": "77434ff3-6353-45ff-f188-950a5261d660"
      },
      "source": [
        "df['LoanAmount_log'] = np.log(df['LoanAmount'])\n",
        "df['LoanAmount_log'].hist(bins=20)"
      ],
      "execution_count": null,
      "outputs": [
        {
          "output_type": "execute_result",
          "data": {
            "text/plain": [
              "<matplotlib.axes._subplots.AxesSubplot at 0x7feccff5f908>"
            ]
          },
          "metadata": {
            "tags": []
          },
          "execution_count": 38
        },
        {
          "output_type": "display_data",
          "data": {
            "image/png": "[encoded data removed]",
            "text/plain": [
              "<Figure size 432x288 with 1 Axes>"
            ]
          },
          "metadata": {
            "tags": [],
            "needs_background": "light"
          }
        }
      ]
    },
    {
      "cell_type": "markdown",
      "metadata": {
        "id": "ZoOHggfMKGUh",
        "colab_type": "text"
      },
      "source": [
        "#The normalized data set with articial eld\n",
        "#LoanAmount_log"
      ]
    },
    {
      "cell_type": "code",
      "metadata": {
        "id": "ZAtawLCGKGv5",
        "colab_type": "code",
        "colab": {
          "base_uri": "https://localhost:8080/",
          "height": 460
        },
        "outputId": "437ed941-7dd3-4cb1-e86e-e4925c390d8b"
      },
      "source": [
        "df"
      ],
      "execution_count": null,
      "outputs": [
        {
          "output_type": "execute_result",
          "data": {
            "text/html": [
              "<div>\n",
              "<style scoped>\n",
              "    .dataframe tbody tr th:only-of-type {\n",
              "        vertical-align: middle;\n",
              "    }\n",
              "\n",
              "    .dataframe tbody tr th {\n",
              "        vertical-align: top;\n",
              "    }\n",
              "\n",
              "    .dataframe thead th {\n",
              "        text-align: right;\n",
              "    }\n",
              "</style>\n",
              "<table border=\"1\" class=\"dataframe\">\n",
              "  <thead>\n",
              "    <tr style=\"text-align: right;\">\n",
              "      <th></th>\n",
              "      <th>Loan_ID</th>\n",
              "      <th>Gender</th>\n",
              "      <th>Married</th>\n",
              "      <th>Dependents</th>\n",
              "      <th>Education</th>\n",
              "      <th>Self_Employed</th>\n",
              "      <th>ApplicantIncome</th>\n",
              "      <th>CoapplicantIncome</th>\n",
              "      <th>LoanAmount</th>\n",
              "      <th>Loan_Amount_Term</th>\n",
              "      <th>Credit_History</th>\n",
              "      <th>Property_Area</th>\n",
              "      <th>LoanAmount_log</th>\n",
              "    </tr>\n",
              "  </thead>\n",
              "  <tbody>\n",
              "    <tr>\n",
              "      <th>0</th>\n",
              "      <td>LP001015</td>\n",
              "      <td>Male</td>\n",
              "      <td>Yes</td>\n",
              "      <td>0</td>\n",
              "      <td>Graduate</td>\n",
              "      <td>No</td>\n",
              "      <td>5720</td>\n",
              "      <td>0</td>\n",
              "      <td>110.0</td>\n",
              "      <td>360.0</td>\n",
              "      <td>1.0</td>\n",
              "      <td>Urban</td>\n",
              "      <td>4.700480</td>\n",
              "    </tr>\n",
              "    <tr>\n",
              "      <th>1</th>\n",
              "      <td>LP001022</td>\n",
              "      <td>Male</td>\n",
              "      <td>Yes</td>\n",
              "      <td>1</td>\n",
              "      <td>Graduate</td>\n",
              "      <td>No</td>\n",
              "      <td>3076</td>\n",
              "      <td>1500</td>\n",
              "      <td>126.0</td>\n",
              "      <td>360.0</td>\n",
              "      <td>1.0</td>\n",
              "      <td>Urban</td>\n",
              "      <td>4.836282</td>\n",
              "    </tr>\n",
              "    <tr>\n",
              "      <th>2</th>\n",
              "      <td>LP001031</td>\n",
              "      <td>Male</td>\n",
              "      <td>Yes</td>\n",
              "      <td>2</td>\n",
              "      <td>Graduate</td>\n",
              "      <td>No</td>\n",
              "      <td>5000</td>\n",
              "      <td>1800</td>\n",
              "      <td>208.0</td>\n",
              "      <td>360.0</td>\n",
              "      <td>1.0</td>\n",
              "      <td>Urban</td>\n",
              "      <td>5.337538</td>\n",
              "    </tr>\n",
              "    <tr>\n",
              "      <th>3</th>\n",
              "      <td>LP001035</td>\n",
              "      <td>Male</td>\n",
              "      <td>Yes</td>\n",
              "      <td>2</td>\n",
              "      <td>Graduate</td>\n",
              "      <td>No</td>\n",
              "      <td>2340</td>\n",
              "      <td>2546</td>\n",
              "      <td>100.0</td>\n",
              "      <td>360.0</td>\n",
              "      <td>1.0</td>\n",
              "      <td>Urban</td>\n",
              "      <td>4.605170</td>\n",
              "    </tr>\n",
              "    <tr>\n",
              "      <th>4</th>\n",
              "      <td>LP001051</td>\n",
              "      <td>Male</td>\n",
              "      <td>No</td>\n",
              "      <td>0</td>\n",
              "      <td>Not Graduate</td>\n",
              "      <td>No</td>\n",
              "      <td>3276</td>\n",
              "      <td>0</td>\n",
              "      <td>78.0</td>\n",
              "      <td>360.0</td>\n",
              "      <td>1.0</td>\n",
              "      <td>Urban</td>\n",
              "      <td>4.356709</td>\n",
              "    </tr>\n",
              "    <tr>\n",
              "      <th>...</th>\n",
              "      <td>...</td>\n",
              "      <td>...</td>\n",
              "      <td>...</td>\n",
              "      <td>...</td>\n",
              "      <td>...</td>\n",
              "      <td>...</td>\n",
              "      <td>...</td>\n",
              "      <td>...</td>\n",
              "      <td>...</td>\n",
              "      <td>...</td>\n",
              "      <td>...</td>\n",
              "      <td>...</td>\n",
              "      <td>...</td>\n",
              "    </tr>\n",
              "    <tr>\n",
              "      <th>362</th>\n",
              "      <td>LP002971</td>\n",
              "      <td>Male</td>\n",
              "      <td>Yes</td>\n",
              "      <td>3+</td>\n",
              "      <td>Not Graduate</td>\n",
              "      <td>Yes</td>\n",
              "      <td>4009</td>\n",
              "      <td>1777</td>\n",
              "      <td>113.0</td>\n",
              "      <td>360.0</td>\n",
              "      <td>1.0</td>\n",
              "      <td>Urban</td>\n",
              "      <td>4.727388</td>\n",
              "    </tr>\n",
              "    <tr>\n",
              "      <th>363</th>\n",
              "      <td>LP002975</td>\n",
              "      <td>Male</td>\n",
              "      <td>Yes</td>\n",
              "      <td>0</td>\n",
              "      <td>Graduate</td>\n",
              "      <td>No</td>\n",
              "      <td>4158</td>\n",
              "      <td>709</td>\n",
              "      <td>115.0</td>\n",
              "      <td>360.0</td>\n",
              "      <td>1.0</td>\n",
              "      <td>Urban</td>\n",
              "      <td>4.744932</td>\n",
              "    </tr>\n",
              "    <tr>\n",
              "      <th>364</th>\n",
              "      <td>LP002980</td>\n",
              "      <td>Male</td>\n",
              "      <td>No</td>\n",
              "      <td>0</td>\n",
              "      <td>Graduate</td>\n",
              "      <td>No</td>\n",
              "      <td>3250</td>\n",
              "      <td>1993</td>\n",
              "      <td>126.0</td>\n",
              "      <td>360.0</td>\n",
              "      <td>1.0</td>\n",
              "      <td>Semiurban</td>\n",
              "      <td>4.836282</td>\n",
              "    </tr>\n",
              "    <tr>\n",
              "      <th>365</th>\n",
              "      <td>LP002986</td>\n",
              "      <td>Male</td>\n",
              "      <td>Yes</td>\n",
              "      <td>0</td>\n",
              "      <td>Graduate</td>\n",
              "      <td>No</td>\n",
              "      <td>5000</td>\n",
              "      <td>2393</td>\n",
              "      <td>158.0</td>\n",
              "      <td>360.0</td>\n",
              "      <td>1.0</td>\n",
              "      <td>Rural</td>\n",
              "      <td>5.062595</td>\n",
              "    </tr>\n",
              "    <tr>\n",
              "      <th>366</th>\n",
              "      <td>LP002989</td>\n",
              "      <td>Male</td>\n",
              "      <td>No</td>\n",
              "      <td>0</td>\n",
              "      <td>Graduate</td>\n",
              "      <td>Yes</td>\n",
              "      <td>9200</td>\n",
              "      <td>0</td>\n",
              "      <td>98.0</td>\n",
              "      <td>180.0</td>\n",
              "      <td>1.0</td>\n",
              "      <td>Rural</td>\n",
              "      <td>4.584967</td>\n",
              "    </tr>\n",
              "  </tbody>\n",
              "</table>\n",
              "<p>367 rows × 13 columns</p>\n",
              "</div>"
            ],
            "text/plain": [
              "      Loan_ID Gender Married  ... Credit_History Property_Area LoanAmount_log\n",
              "0    LP001015   Male     Yes  ...            1.0         Urban       4.700480\n",
              "1    LP001022   Male     Yes  ...            1.0         Urban       4.836282\n",
              "2    LP001031   Male     Yes  ...            1.0         Urban       5.337538\n",
              "3    LP001035   Male     Yes  ...            1.0         Urban       4.605170\n",
              "4    LP001051   Male      No  ...            1.0         Urban       4.356709\n",
              "..        ...    ...     ...  ...            ...           ...            ...\n",
              "362  LP002971   Male     Yes  ...            1.0         Urban       4.727388\n",
              "363  LP002975   Male     Yes  ...            1.0         Urban       4.744932\n",
              "364  LP002980   Male      No  ...            1.0     Semiurban       4.836282\n",
              "365  LP002986   Male     Yes  ...            1.0         Rural       5.062595\n",
              "366  LP002989   Male      No  ...            1.0         Rural       4.584967\n",
              "\n",
              "[367 rows x 13 columns]"
            ]
          },
          "metadata": {
            "tags": []
          },
          "execution_count": 39
        }
      ]
    },
    {
      "cell_type": "markdown",
      "metadata": {
        "id": "DyLZtKbzSMRB",
        "colab_type": "text"
      },
      "source": [
        "#Loading already treated one such loan approval dataset from repository to predict the loan approval with Loan_status field"
      ]
    },
    {
      "cell_type": "code",
      "metadata": {
        "id": "4l2Io30OSmO7",
        "colab_type": "code",
        "colab": {
          "base_uri": "https://localhost:8080/",
          "height": 265
        },
        "outputId": "1bfd46ba-bfa9-4f71-a84e-c26b34738ec9"
      },
      "source": [
        "import pandas as pd\n",
        "url = \"https://raw.githubusercontent.com/callxpert/datasets/master/Loan-applicant-details.csv\" \n",
        "names = ['Loan_ID','Gender','Married','Dependents','Education','Self_Employed','ApplicantIncome','Co df = pd.read_csv(url, names=names)' ]\n",
        "print(df)\n"
      ],
      "execution_count": null,
      "outputs": [
        {
          "output_type": "stream",
          "text": [
            "      Loan_ID Gender Married  ... Credit_History Property_Area LoanAmount_log\n",
            "0    LP001015   Male     Yes  ...            1.0         Urban       4.700480\n",
            "1    LP001022   Male     Yes  ...            1.0         Urban       4.836282\n",
            "2    LP001031   Male     Yes  ...            1.0         Urban       5.337538\n",
            "3    LP001035   Male     Yes  ...            1.0         Urban       4.605170\n",
            "4    LP001051   Male      No  ...            1.0         Urban       4.356709\n",
            "..        ...    ...     ...  ...            ...           ...            ...\n",
            "362  LP002971   Male     Yes  ...            1.0         Urban       4.727388\n",
            "363  LP002975   Male     Yes  ...            1.0         Urban       4.744932\n",
            "364  LP002980   Male      No  ...            1.0     Semiurban       4.836282\n",
            "365  LP002986   Male     Yes  ...            1.0         Rural       5.062595\n",
            "366  LP002989   Male      No  ...            1.0         Rural       4.584967\n",
            "\n",
            "[367 rows x 13 columns]\n"
          ],
          "name": "stdout"
        }
      ]
    },
    {
      "cell_type": "code",
      "metadata": {
        "id": "sfDjfP9bTWor",
        "colab_type": "code",
        "colab": {
          "base_uri": "https://localhost:8080/",
          "height": 265
        },
        "outputId": "6a4bacb8-43cf-4fc2-abe6-26198439861a"
      },
      "source": [
        "df.apply(lambda x:sum(x.isnull()),axis=0)"
      ],
      "execution_count": null,
      "outputs": [
        {
          "output_type": "execute_result",
          "data": {
            "text/plain": [
              "Loan_ID              0\n",
              "Gender               0\n",
              "Married              0\n",
              "Dependents           0\n",
              "Education            0\n",
              "Self_Employed        0\n",
              "ApplicantIncome      0\n",
              "CoapplicantIncome    0\n",
              "LoanAmount           0\n",
              "Loan_Amount_Term     0\n",
              "Credit_History       0\n",
              "Property_Area        0\n",
              "LoanAmount_log       0\n",
              "dtype: int64"
            ]
          },
          "metadata": {
            "tags": []
          },
          "execution_count": 44
        }
      ]
    },
    {
      "cell_type": "markdown",
      "metadata": {
        "id": "buxEyN1OTnGw",
        "colab_type": "text"
      },
      "source": [
        "#Lets take a peek at the data\n",
        " "
      ]
    },
    {
      "cell_type": "code",
      "metadata": {
        "id": "v0xLG3METq40",
        "colab_type": "code",
        "colab": {
          "base_uri": "https://localhost:8080/",
          "height": 425
        },
        "outputId": "919d0cc3-8bd4-42d9-aff9-1811f8a0071b"
      },
      "source": [
        "print(df.head(20))"
      ],
      "execution_count": null,
      "outputs": [
        {
          "output_type": "stream",
          "text": [
            "     Loan_ID  Gender Married  ... Credit_History Property_Area LoanAmount_log\n",
            "0   LP001015    Male     Yes  ...            1.0         Urban       4.700480\n",
            "1   LP001022    Male     Yes  ...            1.0         Urban       4.836282\n",
            "2   LP001031    Male     Yes  ...            1.0         Urban       5.337538\n",
            "3   LP001035    Male     Yes  ...            1.0         Urban       4.605170\n",
            "4   LP001051    Male      No  ...            1.0         Urban       4.356709\n",
            "5   LP001054    Male     Yes  ...            1.0         Urban       5.023881\n",
            "6   LP001055  Female      No  ...            1.0     Semiurban       4.077537\n",
            "7   LP001056    Male     Yes  ...            0.0         Rural       4.990433\n",
            "8   LP001059    Male     Yes  ...            1.0         Urban       5.634790\n",
            "9   LP001067    Male      No  ...            1.0     Semiurban       4.812184\n",
            "10  LP001078    Male      No  ...            1.0         Urban       4.499810\n",
            "11  LP001082    Male     Yes  ...            1.0     Semiurban       5.087596\n",
            "12  LP001083    Male      No  ...            1.0         Urban       3.688879\n",
            "13  LP001094    Male     Yes  ...            0.0     Semiurban       5.111988\n",
            "14  LP001096  Female      No  ...            1.0     Semiurban       4.820282\n",
            "15  LP001099    Male      No  ...            1.0         Urban       4.875197\n",
            "16  LP001105    Male     Yes  ...            1.0         Urban       5.298317\n",
            "17  LP001107    Male     Yes  ...            1.0     Semiurban       4.836282\n",
            "18  LP001108    Male     Yes  ...            1.0         Urban       5.703782\n",
            "19  LP001115    Male      No  ...            1.0     Semiurban       4.605170\n",
            "\n",
            "[20 rows x 13 columns]\n"
          ],
          "name": "stdout"
        }
      ]
    },
    {
      "cell_type": "markdown",
      "metadata": {
        "id": "dfcbD7lJTvjS",
        "colab_type": "text"
      },
      "source": [
        "#Lets load the required libraries for our analysis\n"
      ]
    },
    {
      "cell_type": "code",
      "metadata": {
        "id": "YHWHiGQCTwpS",
        "colab_type": "code",
        "colab": {}
      },
      "source": [
        "import pandas as pd \n",
        "import numpy as np\n",
        "import matplotlib.pyplot as plt\n",
        "from sklearn import model_selection \n",
        "from sklearn.metrics import accuracy_score\n",
        "from sklearn.linear_model import LogisticRegression \n",
        "from sklearn.linear_model import LinearRegression\n",
        "from sklearn.ensemble import RandomForestClassifier \n",
        "from sklearn.neighbors import KNeighborsClassifier \n",
        "from sklearn.svm import SVC\n",
        "from sklearn.tree import DecisionTreeClassifier, export_graphviz \n",
        "from sklearn.model_selection import train_test_split\n"
      ],
      "execution_count": null,
      "outputs": []
    },
    {
      "cell_type": "code",
      "metadata": {
        "id": "wj3M44Z0UWOp",
        "colab_type": "code",
        "colab": {
          "base_uri": "https://localhost:8080/",
          "height": 195
        },
        "outputId": "f9f9276e-3e10-4c72-a645-5c658dec94cd"
      },
      "source": [
        "from sklearn.preprocessing import LabelEncoder \n",
        "var_mod = ['Gender','Married','Dependents','Education','Self_Employed','Property_Area']\n",
        "le = LabelEncoder() \n",
        "for i in var_mod:\n",
        "  df[i] = le.fit_transform(df[i])\n"
      ],
      "execution_count": null,
      "outputs": [
        {
          "output_type": "error",
          "ename": "NameError",
          "evalue": "ignored",
          "traceback": [
            "\u001b[0;31m---------------------------------------------------------------------------\u001b[0m",
            "\u001b[0;31mNameError\u001b[0m                                 Traceback (most recent call last)",
            "\u001b[0;32m<ipython-input-1-2df943d19eb0>\u001b[0m in \u001b[0;36m<module>\u001b[0;34m()\u001b[0m\n\u001b[1;32m      3\u001b[0m \u001b[0mle\u001b[0m \u001b[0;34m=\u001b[0m \u001b[0mLabelEncoder\u001b[0m\u001b[0;34m(\u001b[0m\u001b[0;34m)\u001b[0m\u001b[0;34m\u001b[0m\u001b[0;34m\u001b[0m\u001b[0m\n\u001b[1;32m      4\u001b[0m \u001b[0;32mfor\u001b[0m \u001b[0mi\u001b[0m \u001b[0;32min\u001b[0m \u001b[0mvar_mod\u001b[0m\u001b[0;34m:\u001b[0m\u001b[0;34m\u001b[0m\u001b[0;34m\u001b[0m\u001b[0m\n\u001b[0;32m----> 5\u001b[0;31m   \u001b[0mdf\u001b[0m\u001b[0;34m[\u001b[0m\u001b[0mi\u001b[0m\u001b[0;34m]\u001b[0m \u001b[0;34m=\u001b[0m \u001b[0mle\u001b[0m\u001b[0;34m.\u001b[0m\u001b[0mfit_transform\u001b[0m\u001b[0;34m(\u001b[0m\u001b[0mdf\u001b[0m\u001b[0;34m[\u001b[0m\u001b[0mi\u001b[0m\u001b[0;34m]\u001b[0m\u001b[0;34m)\u001b[0m\u001b[0;34m\u001b[0m\u001b[0;34m\u001b[0m\u001b[0m\n\u001b[0m",
            "\u001b[0;31mNameError\u001b[0m: name 'df' is not defined"
          ]
        }
      ]
    },
    {
      "cell_type": "markdown",
      "metadata": {
        "id": "qkVFTuKdUNdY",
        "colab_type": "text"
      },
      "source": [
        "#Steps involved in this machine learning project \n",
        "\n"
      ]
    },
    {
      "cell_type": "markdown",
      "metadata": {
        "id": "5gXQBGlNUx4v",
        "colab_type": "text"
      },
      "source": [
        "#sklearn requires all inputs to be numeric, we should convert all our categorical variables into numeric by encoding the categories. This can be done using the above code:\n"
      ]
    },
    {
      "cell_type": "markdown",
      "metadata": {
        "id": "grHZaT6fU1HZ",
        "colab_type": "text"
      },
      "source": [
        "#Splitting the Data set: As we have seen already, In Machine learning we have two kinds of datasets\n"
      ]
    },
    {
      "cell_type": "markdown",
      "metadata": {
        "id": "fIeBFJoKU7pO",
        "colab_type": "text"
      },
      "source": [
        "#Training dataset - used to train our model Testing dataset - used to test if our model is making accurate predictions\n"
      ]
    },
    {
      "cell_type": "markdown",
      "metadata": {
        "id": "VQF_WW7zU-V4",
        "colab_type": "text"
      },
      "source": [
        "Our dataset has 480 records. We are going to use 80% of it for training the model and 20% of the records to evaluate our model. copy paste the below commands to prepare our data sets\n"
      ]
    },
    {
      "cell_type": "code",
      "metadata": {
        "id": "xx3i3MHEVAwY",
        "colab_type": "code",
        "colab": {
          "base_uri": "https://localhost:8080/",
          "height": 105
        },
        "outputId": "872558cf-5573-4113-b73b-e7cd0e2906cb"
      },
      "source": [
        "array = df.values \n",
        "X = array[:,6:11] \n",
        "Y = array[:,12] \n",
        "Y=Y.astype('int') \n",
        "x_train, x_test, y_train, y_test = model_selection.train_test_split(X, Y, test_size=0.2,random_state=7)\n",
        "df.columns\n",
        "                                                                   "
      ],
      "execution_count": null,
      "outputs": [
        {
          "output_type": "execute_result",
          "data": {
            "text/plain": [
              "Index(['Loan_ID', 'Gender', 'Married', 'Dependents', 'Education',\n",
              "       'Self_Employed', 'ApplicantIncome', 'CoapplicantIncome', 'LoanAmount',\n",
              "       'Loan_Amount_Term', 'Credit_History', 'Property_Area',\n",
              "       'LoanAmount_log'],\n",
              "      dtype='object')"
            ]
          },
          "metadata": {
            "tags": []
          },
          "execution_count": 62
        }
      ]
    },
    {
      "cell_type": "markdown",
      "metadata": {
        "id": "HI7kRdcWWB4-",
        "colab_type": "text"
      },
      "source": [
        "#Evaluating the model and training the Model with 'ApplicantIncome', 'CoapplicantIncome', 'LoanAmount','Loan_Amount_Term', 'Credit_History'"
      ]
    },
    {
      "cell_type": "markdown",
      "metadata": {
        "id": "0ARO3SCPWICH",
        "colab_type": "text"
      },
      "source": [
        "#ML model 1\n"
      ]
    },
    {
      "cell_type": "markdown",
      "metadata": {
        "id": "5hMx17SzWONx",
        "colab_type": "text"
      },
      "source": [
        "**Logistic Regression : Logistic Regression is a classication algorithm. It is used to predict a binary outcome (1 / 0, Yes / No, True / False) given a set of independent variables. To represent binary / categorical outcome, we use dummy variables**\n"
      ]
    },
    {
      "cell_type": "code",
      "metadata": {
        "id": "X57xDdK-WSK-",
        "colab_type": "code",
        "colab": {
          "base_uri": "https://localhost:8080/",
          "height": 196
        },
        "outputId": "66a729af-8b03-4113-ac44-e5ef02683a17"
      },
      "source": [
        "model = LogisticRegression()\n",
        "model.fit(x_train,y_train) \n",
        "predictions = model.predict(x_test) \n",
        "print(accuracy_score(y_test, predictions))\n"
      ],
      "execution_count": null,
      "outputs": [
        {
          "output_type": "stream",
          "text": [
            "0.8243243243243243\n"
          ],
          "name": "stdout"
        },
        {
          "output_type": "stream",
          "text": [
            "/usr/local/lib/python3.6/dist-packages/sklearn/linear_model/_logistic.py:940: ConvergenceWarning: lbfgs failed to converge (status=1):\n",
            "STOP: TOTAL NO. of ITERATIONS REACHED LIMIT.\n",
            "\n",
            "Increase the number of iterations (max_iter) or scale the data as shown in:\n",
            "    https://scikit-learn.org/stable/modules/preprocessing.html\n",
            "Please also refer to the documentation for alternative solver options:\n",
            "    https://scikit-learn.org/stable/modules/linear_model.html#logistic-regression\n",
            "  extra_warning_msg=_LOGISTIC_SOLVER_CONVERGENCE_MSG)\n"
          ],
          "name": "stderr"
        }
      ]
    },
    {
      "cell_type": "markdown",
      "metadata": {
        "id": "tvzocu9lWr8j",
        "colab_type": "text"
      },
      "source": [
        "**Decision tree : Decision tree is a type of supervised learning algorithm (having a pre-dened target variable) that is mostly used in classication problems. It works for both categorical and continuous input and output variables**"
      ]
    },
    {
      "cell_type": "code",
      "metadata": {
        "id": "XG2dnXEUWy4c",
        "colab_type": "code",
        "colab": {
          "base_uri": "https://localhost:8080/",
          "height": 34
        },
        "outputId": "14d49e19-3666-4c41-8c3e-e04f12869a3f"
      },
      "source": [
        "model = DecisionTreeClassifier() \n",
        "model.fit(x_train,y_train) \n",
        "predictions = model.predict(x_test)\n",
        "print(accuracy_score(y_test, predictions))\n"
      ],
      "execution_count": null,
      "outputs": [
        {
          "output_type": "stream",
          "text": [
            "0.9864864864864865\n"
          ],
          "name": "stdout"
        }
      ]
    },
    {
      "cell_type": "markdown",
      "metadata": {
        "id": "-6anB4q4XBzf",
        "colab_type": "text"
      },
      "source": [
        "**Random forest : Random forests or random decision forests are an ensemble learning method for classication, regression and other tasks, that operate by constructing a multitude of decision trees at training time and outputting the class that is the mode of the classes (classication) or mean prediction (regression) of the individual trees**"
      ]
    },
    {
      "cell_type": "code",
      "metadata": {
        "id": "tlUT9RRrXEpf",
        "colab_type": "code",
        "colab": {
          "base_uri": "https://localhost:8080/",
          "height": 34
        },
        "outputId": "7a575f2b-2bd6-4b9a-9429-f0ea8d75d21e"
      },
      "source": [
        "model = RandomForestClassifier(n_estimators=100) \n",
        "model.fit(x_train,y_train) \n",
        "predictions = model.predict(x_test) \n",
        "print(accuracy_score(y_test, predictions))\n"
      ],
      "execution_count": null,
      "outputs": [
        {
          "output_type": "stream",
          "text": [
            "1.0\n"
          ],
          "name": "stdout"
        }
      ]
    },
    {
      "cell_type": "markdown",
      "metadata": {
        "id": "Tb5VA5j8XRqk",
        "colab_type": "text"
      },
      "source": [
        "#Evaluating the model and training the Model with 'Married', 'Dependents', 'Education','Self_Employed', 'ApplicantIncome'\n",
        "#ML model 2\n"
      ]
    },
    {
      "cell_type": "code",
      "metadata": {
        "id": "BE54ri5xXYaE",
        "colab_type": "code",
        "colab": {
          "base_uri": "https://localhost:8080/",
          "height": 105
        },
        "outputId": "b7995edd-0ac4-4b9e-c01c-2cbdb57c5e9b"
      },
      "source": [
        "array = df.values \n",
        "X = array[:,2:6] \n",
        "Y = array[:,12] \n",
        "Y=Y.astype('int') \n",
        "x_train, x_test, y_train, y_test = model_selection.train_test_split(X, Y, test_size=0.2, random_state=7 )\n",
        "df.columns\n"
      ],
      "execution_count": null,
      "outputs": [
        {
          "output_type": "execute_result",
          "data": {
            "text/plain": [
              "Index(['Loan_ID', 'Gender', 'Married', 'Dependents', 'Education',\n",
              "       'Self_Employed', 'ApplicantIncome', 'CoapplicantIncome', 'LoanAmount',\n",
              "       'Loan_Amount_Term', 'Credit_History', 'Property_Area',\n",
              "       'LoanAmount_log'],\n",
              "      dtype='object')"
            ]
          },
          "metadata": {
            "tags": []
          },
          "execution_count": 61
        }
      ]
    },
    {
      "cell_type": "code",
      "metadata": {
        "id": "zSc0XkgUYVlv",
        "colab_type": "code",
        "colab": {
          "base_uri": "https://localhost:8080/",
          "height": 196
        },
        "outputId": "38a0928c-378b-45fc-b57d-c5b2948b8b9e"
      },
      "source": [
        "model = LogisticRegression() \n",
        "model.fit(x_train,y_train) \n",
        "predictions = model.predict(x_test) \n",
        "print(accuracy_score(y_test, predictions))\n"
      ],
      "execution_count": null,
      "outputs": [
        {
          "output_type": "stream",
          "text": [
            "0.8243243243243243\n"
          ],
          "name": "stdout"
        },
        {
          "output_type": "stream",
          "text": [
            "/usr/local/lib/python3.6/dist-packages/sklearn/linear_model/_logistic.py:940: ConvergenceWarning: lbfgs failed to converge (status=1):\n",
            "STOP: TOTAL NO. of ITERATIONS REACHED LIMIT.\n",
            "\n",
            "Increase the number of iterations (max_iter) or scale the data as shown in:\n",
            "    https://scikit-learn.org/stable/modules/preprocessing.html\n",
            "Please also refer to the documentation for alternative solver options:\n",
            "    https://scikit-learn.org/stable/modules/linear_model.html#logistic-regression\n",
            "  extra_warning_msg=_LOGISTIC_SOLVER_CONVERGENCE_MSG)\n"
          ],
          "name": "stderr"
        }
      ]
    },
    {
      "cell_type": "code",
      "metadata": {
        "id": "g_Ey9pGEZ4V6",
        "colab_type": "code",
        "colab": {
          "base_uri": "https://localhost:8080/",
          "height": 34
        },
        "outputId": "aae6d31d-3d91-41da-ff12-1a429ed3e5c4"
      },
      "source": [
        "model = DecisionTreeClassifier() \n",
        "model.fit(x_train,y_train) \n",
        "predictions = model.predict(x_test) \n",
        "print(accuracy_score(y_test, predictions))\n"
      ],
      "execution_count": null,
      "outputs": [
        {
          "output_type": "stream",
          "text": [
            "0.9864864864864865\n"
          ],
          "name": "stdout"
        }
      ]
    },
    {
      "cell_type": "code",
      "metadata": {
        "id": "0kJ2JEl8aBL1",
        "colab_type": "code",
        "colab": {
          "base_uri": "https://localhost:8080/",
          "height": 34
        },
        "outputId": "c27c9803-0ce2-4521-ee93-dea32d9fff5a"
      },
      "source": [
        "model = RandomForestClassifier(n_estimators=100) \n",
        "model.fit(x_train,y_train) \n",
        "predictions = model.predict(x_test) \n",
        "print(accuracy_score(y_test, predictions))\n"
      ],
      "execution_count": null,
      "outputs": [
        {
          "output_type": "stream",
          "text": [
            "0.9864864864864865\n"
          ],
          "name": "stdout"
        }
      ]
    },
    {
      "cell_type": "code",
      "metadata": {
        "id": "9N6EYA2QaIAK",
        "colab_type": "code",
        "colab": {
          "base_uri": "https://localhost:8080/",
          "height": 105
        },
        "outputId": "29ac7006-e295-4812-dcf2-893fe4a3d002"
      },
      "source": [
        "array = df.values \n",
        "X = array[:,5:12] \n",
        "Y = array[:,12] \n",
        "Y=Y.astype('int') \n",
        "x_train, x_test, y_train, y_test = model_selection.train_test_split(X, Y, test_size=0.2, random_state=7) \n",
        "df.columns"
      ],
      "execution_count": null,
      "outputs": [
        {
          "output_type": "execute_result",
          "data": {
            "text/plain": [
              "Index(['Loan_ID', 'Gender', 'Married', 'Dependents', 'Education',\n",
              "       'Self_Employed', 'ApplicantIncome', 'CoapplicantIncome', 'LoanAmount',\n",
              "       'Loan_Amount_Term', 'Credit_History', 'Property_Area',\n",
              "       'LoanAmount_log'],\n",
              "      dtype='object')"
            ]
          },
          "metadata": {
            "tags": []
          },
          "execution_count": 68
        }
      ]
    },
    {
      "cell_type": "markdown",
      "metadata": {
        "id": "aPd8k1J1asdg",
        "colab_type": "text"
      },
      "source": [
        "#Evaluating the model and training the Model with 'Self_Employed', 'ApplicantIncome', 'CoapplicantIncome', 'LoanAmount','Loan_Amount_Term', 'Credit_History', 'Property_Area'\n"
      ]
    },
    {
      "cell_type": "code",
      "metadata": {
        "id": "KETj5igAaxpy",
        "colab_type": "code",
        "colab": {
          "base_uri": "https://localhost:8080/",
          "height": 105
        },
        "outputId": "ad43f134-19ea-449d-b7b0-dd7867fcc0ef"
      },
      "source": [
        "array = df.values \n",
        "X = array[:,5:12] \n",
        "Y = array[:,12] \n",
        "Y=Y.astype('int') \n",
        "x_train, x_test, y_train, y_test = model_selection.train_test_split(X, Y, test_size=0.2, random_state=7)\n",
        "df.columns"
      ],
      "execution_count": null,
      "outputs": [
        {
          "output_type": "execute_result",
          "data": {
            "text/plain": [
              "Index(['Loan_ID', 'Gender', 'Married', 'Dependents', 'Education',\n",
              "       'Self_Employed', 'ApplicantIncome', 'CoapplicantIncome', 'LoanAmount',\n",
              "       'Loan_Amount_Term', 'Credit_History', 'Property_Area',\n",
              "       'LoanAmount_log'],\n",
              "      dtype='object')"
            ]
          },
          "metadata": {
            "tags": []
          },
          "execution_count": 69
        }
      ]
    },
    {
      "cell_type": "code",
      "metadata": {
        "id": "Xjq8_KrGbE0k",
        "colab_type": "code",
        "colab": {
          "base_uri": "https://localhost:8080/",
          "height": 196
        },
        "outputId": "fee5eab4-4d4e-4029-f6a3-ea27d1985abf"
      },
      "source": [
        "model = LogisticRegression() \n",
        "model.fit(x_train,y_train) \n",
        "predictions = model.predict(x_test) \n",
        "print(accuracy_score(y_test, predictions))\n"
      ],
      "execution_count": null,
      "outputs": [
        {
          "output_type": "stream",
          "text": [
            "0.8243243243243243\n"
          ],
          "name": "stdout"
        },
        {
          "output_type": "stream",
          "text": [
            "/usr/local/lib/python3.6/dist-packages/sklearn/linear_model/_logistic.py:940: ConvergenceWarning: lbfgs failed to converge (status=1):\n",
            "STOP: TOTAL NO. of ITERATIONS REACHED LIMIT.\n",
            "\n",
            "Increase the number of iterations (max_iter) or scale the data as shown in:\n",
            "    https://scikit-learn.org/stable/modules/preprocessing.html\n",
            "Please also refer to the documentation for alternative solver options:\n",
            "    https://scikit-learn.org/stable/modules/linear_model.html#logistic-regression\n",
            "  extra_warning_msg=_LOGISTIC_SOLVER_CONVERGENCE_MSG)\n"
          ],
          "name": "stderr"
        }
      ]
    },
    {
      "cell_type": "code",
      "metadata": {
        "id": "4KKhzlEfbNJy",
        "colab_type": "code",
        "colab": {
          "base_uri": "https://localhost:8080/",
          "height": 34
        },
        "outputId": "0347f4af-3295-42a9-9aa0-c0d1d72381ee"
      },
      "source": [
        "model = DecisionTreeClassifier() \n",
        "model.fit(x_train,y_train) \n",
        "predictions = model.predict(x_test) \n",
        "print(accuracy_score(y_test, predictions))\n"
      ],
      "execution_count": null,
      "outputs": [
        {
          "output_type": "stream",
          "text": [
            "0.9864864864864865\n"
          ],
          "name": "stdout"
        }
      ]
    },
    {
      "cell_type": "code",
      "metadata": {
        "id": "s8gtm8bnbTSo",
        "colab_type": "code",
        "colab": {
          "base_uri": "https://localhost:8080/",
          "height": 34
        },
        "outputId": "c5d5a9cb-b920-4e56-e3ec-88fee7a3fd4a"
      },
      "source": [
        "model = RandomForestClassifier(n_estimators=100) \n",
        "model.fit(x_train,y_train) \n",
        "predictions = model.predict(x_test) \n",
        "print(accuracy_score(y_test, predictions))\n",
        " "
      ],
      "execution_count": null,
      "outputs": [
        {
          "output_type": "stream",
          "text": [
            "0.9864864864864865\n"
          ],
          "name": "stdout"
        }
      ]
    }
  ]
}