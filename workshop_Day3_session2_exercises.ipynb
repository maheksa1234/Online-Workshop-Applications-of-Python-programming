{
  "nbformat": 4,
  "nbformat_minor": 0,
  "metadata": {
    "colab": {
      "name": "workshop Day3 session2 exercises",
      "provenance": [],
      "collapsed_sections": [],
      "authorship_tag": "ABX9TyPj20wZMYTQZ8hNMRMMl4Eb",
      "include_colab_link": true
    },
    "kernelspec": {
      "name": "python3",
      "display_name": "Python 3"
    }
  },
  "cells": [
    {
      "cell_type": "markdown",
      "metadata": {
        "id": "view-in-github",
        "colab_type": "text"
      },
      "source": [
        "<a href=\"https://colab.research.google.com/github/maheksa1234/Online-Workshop-Applications-of-Python-programming/blob/master/workshop_Day3_session2_exercises.ipynb\" target=\"_parent\"><img src=\"https://colab.research.google.com/assets/colab-badge.svg\" alt=\"Open In Colab\"/></a>"
      ]
    },
    {
      "cell_type": "code",
      "metadata": {
        "id": "IXh3Aq2sttBs",
        "colab_type": "code",
        "colab": {}
      },
      "source": [
        ""
      ],
      "execution_count": null,
      "outputs": []
    },
    {
      "cell_type": "markdown",
      "metadata": {
        "id": "BZ-hzF7SuXlt",
        "colab_type": "text"
      },
      "source": [
        "#Pandas and Numpy Exercise 20 Questions\n",
        "#Write a Pandas program to create and display a one-dimensional array using series containing even numbers upto 10000"
      ]
    },
    {
      "cell_type": "code",
      "metadata": {
        "id": "JPx8Lk9gud7M",
        "colab_type": "code",
        "colab": {
          "base_uri": "https://localhost:8080/",
          "height": 225
        },
        "outputId": "c533f9bf-4158-440f-cd8b-29f1790955bc"
      },
      "source": [
        "import pandas as pd\n",
        "l=([i for i in range(0,10000) if i%2==0])\n",
        "ds = pd.Series(l) \n",
        "print(ds)\n"
      ],
      "execution_count": null,
      "outputs": [
        {
          "output_type": "stream",
          "text": [
            "0          0\n",
            "1          2\n",
            "2          4\n",
            "3          6\n",
            "4          8\n",
            "        ... \n",
            "4995    9990\n",
            "4996    9992\n",
            "4997    9994\n",
            "4998    9996\n",
            "4999    9998\n",
            "Length: 5000, dtype: int64\n"
          ],
          "name": "stdout"
        }
      ]
    },
    {
      "cell_type": "markdown",
      "metadata": {
        "id": "I6AAGXnTumr3",
        "colab_type": "text"
      },
      "source": [
        "#Write a Pandas program to convert a Panda module Series of the numbers which are between 1000 and 2000 (both inclusive) and divisable by 5 to Python list and after convertion print its type"
      ]
    },
    {
      "cell_type": "code",
      "metadata": {
        "id": "vTXcZag7uq0N",
        "colab_type": "code",
        "colab": {
          "base_uri": "https://localhost:8080/",
          "height": 225
        },
        "outputId": "916c1b6e-04b1-4b3c-cbc7-31ab10f5ad7d"
      },
      "source": [
        "import pandas as pd\n",
        "l=([i for i in range(1000,20000) if i%5==0])\n",
        "ds = pd.Series(l) \n",
        "print(ds)"
      ],
      "execution_count": null,
      "outputs": [
        {
          "output_type": "stream",
          "text": [
            "0        1000\n",
            "1        1005\n",
            "2        1010\n",
            "3        1015\n",
            "4        1020\n",
            "        ...  \n",
            "3795    19975\n",
            "3796    19980\n",
            "3797    19985\n",
            "3798    19990\n",
            "3799    19995\n",
            "Length: 3800, dtype: int64\n"
          ],
          "name": "stdout"
        }
      ]
    },
    {
      "cell_type": "markdown",
      "metadata": {
        "id": "o1KIjkyFvR41",
        "colab_type": "text"
      },
      "source": [
        "#Write a Pandas program to add, subtract, multiple and divide two Pandas Series and print their results using the Sample Series: [2, 4, 6, 8, ...100], [1, 3, 5, 7, 9...99]"
      ]
    },
    {
      "cell_type": "code",
      "metadata": {
        "id": "-RwKlTpTvWEv",
        "colab_type": "code",
        "colab": {
          "base_uri": "https://localhost:8080/",
          "height": 1000
        },
        "outputId": "866fd5d8-87b4-42b4-f43e-f7edf7a4e1ed"
      },
      "source": [
        "import pandas as pd\n",
        "l1=([i for i in range(0,101) if i%2==0])\n",
        "ds1 = pd.Series(l1)\n",
        "l2=([i for i in range(0,100) if i%2!=0])\n",
        "ds2 = pd.Series(l2)\n",
        "ds = ds1 + ds2\n",
        "print(\"Add two Series:\")\n",
        "print(ds)\n",
        "print(\"Subtract two Series:\")\n",
        "ds = ds1 - ds2\n",
        "print(ds)\n",
        "print(\"Multiply two Series:\")\n",
        "ds = ds1 * ds2\n",
        "print(ds)\n",
        "print(\"Divide Series1 by Series2:\")\n",
        "ds = ds1 / ds2\n",
        "print(ds)"
      ],
      "execution_count": null,
      "outputs": [
        {
          "output_type": "stream",
          "text": [
            "Add two Series:\n",
            "0       1.0\n",
            "1       5.0\n",
            "2       9.0\n",
            "3      13.0\n",
            "4      17.0\n",
            "5      21.0\n",
            "6      25.0\n",
            "7      29.0\n",
            "8      33.0\n",
            "9      37.0\n",
            "10     41.0\n",
            "11     45.0\n",
            "12     49.0\n",
            "13     53.0\n",
            "14     57.0\n",
            "15     61.0\n",
            "16     65.0\n",
            "17     69.0\n",
            "18     73.0\n",
            "19     77.0\n",
            "20     81.0\n",
            "21     85.0\n",
            "22     89.0\n",
            "23     93.0\n",
            "24     97.0\n",
            "25    101.0\n",
            "26    105.0\n",
            "27    109.0\n",
            "28    113.0\n",
            "29    117.0\n",
            "30    121.0\n",
            "31    125.0\n",
            "32    129.0\n",
            "33    133.0\n",
            "34    137.0\n",
            "35    141.0\n",
            "36    145.0\n",
            "37    149.0\n",
            "38    153.0\n",
            "39    157.0\n",
            "40    161.0\n",
            "41    165.0\n",
            "42    169.0\n",
            "43    173.0\n",
            "44    177.0\n",
            "45    181.0\n",
            "46    185.0\n",
            "47    189.0\n",
            "48    193.0\n",
            "49    197.0\n",
            "50      NaN\n",
            "dtype: float64\n",
            "Subtract two Series:\n",
            "0    -1.0\n",
            "1    -1.0\n",
            "2    -1.0\n",
            "3    -1.0\n",
            "4    -1.0\n",
            "5    -1.0\n",
            "6    -1.0\n",
            "7    -1.0\n",
            "8    -1.0\n",
            "9    -1.0\n",
            "10   -1.0\n",
            "11   -1.0\n",
            "12   -1.0\n",
            "13   -1.0\n",
            "14   -1.0\n",
            "15   -1.0\n",
            "16   -1.0\n",
            "17   -1.0\n",
            "18   -1.0\n",
            "19   -1.0\n",
            "20   -1.0\n",
            "21   -1.0\n",
            "22   -1.0\n",
            "23   -1.0\n",
            "24   -1.0\n",
            "25   -1.0\n",
            "26   -1.0\n",
            "27   -1.0\n",
            "28   -1.0\n",
            "29   -1.0\n",
            "30   -1.0\n",
            "31   -1.0\n",
            "32   -1.0\n",
            "33   -1.0\n",
            "34   -1.0\n",
            "35   -1.0\n",
            "36   -1.0\n",
            "37   -1.0\n",
            "38   -1.0\n",
            "39   -1.0\n",
            "40   -1.0\n",
            "41   -1.0\n",
            "42   -1.0\n",
            "43   -1.0\n",
            "44   -1.0\n",
            "45   -1.0\n",
            "46   -1.0\n",
            "47   -1.0\n",
            "48   -1.0\n",
            "49   -1.0\n",
            "50    NaN\n",
            "dtype: float64\n",
            "Multiply two Series:\n",
            "0        0.0\n",
            "1        6.0\n",
            "2       20.0\n",
            "3       42.0\n",
            "4       72.0\n",
            "5      110.0\n",
            "6      156.0\n",
            "7      210.0\n",
            "8      272.0\n",
            "9      342.0\n",
            "10     420.0\n",
            "11     506.0\n",
            "12     600.0\n",
            "13     702.0\n",
            "14     812.0\n",
            "15     930.0\n",
            "16    1056.0\n",
            "17    1190.0\n",
            "18    1332.0\n",
            "19    1482.0\n",
            "20    1640.0\n",
            "21    1806.0\n",
            "22    1980.0\n",
            "23    2162.0\n",
            "24    2352.0\n",
            "25    2550.0\n",
            "26    2756.0\n",
            "27    2970.0\n",
            "28    3192.0\n",
            "29    3422.0\n",
            "30    3660.0\n",
            "31    3906.0\n",
            "32    4160.0\n",
            "33    4422.0\n",
            "34    4692.0\n",
            "35    4970.0\n",
            "36    5256.0\n",
            "37    5550.0\n",
            "38    5852.0\n",
            "39    6162.0\n",
            "40    6480.0\n",
            "41    6806.0\n",
            "42    7140.0\n",
            "43    7482.0\n",
            "44    7832.0\n",
            "45    8190.0\n",
            "46    8556.0\n",
            "47    8930.0\n",
            "48    9312.0\n",
            "49    9702.0\n",
            "50       NaN\n",
            "dtype: float64\n",
            "Divide Series1 by Series2:\n",
            "0     0.000000\n",
            "1     0.666667\n",
            "2     0.800000\n",
            "3     0.857143\n",
            "4     0.888889\n",
            "5     0.909091\n",
            "6     0.923077\n",
            "7     0.933333\n",
            "8     0.941176\n",
            "9     0.947368\n",
            "10    0.952381\n",
            "11    0.956522\n",
            "12    0.960000\n",
            "13    0.962963\n",
            "14    0.965517\n",
            "15    0.967742\n",
            "16    0.969697\n",
            "17    0.971429\n",
            "18    0.972973\n",
            "19    0.974359\n",
            "20    0.975610\n",
            "21    0.976744\n",
            "22    0.977778\n",
            "23    0.978723\n",
            "24    0.979592\n",
            "25    0.980392\n",
            "26    0.981132\n",
            "27    0.981818\n",
            "28    0.982456\n",
            "29    0.983051\n",
            "30    0.983607\n",
            "31    0.984127\n",
            "32    0.984615\n",
            "33    0.985075\n",
            "34    0.985507\n",
            "35    0.985915\n",
            "36    0.986301\n",
            "37    0.986667\n",
            "38    0.987013\n",
            "39    0.987342\n",
            "40    0.987654\n",
            "41    0.987952\n",
            "42    0.988235\n",
            "43    0.988506\n",
            "44    0.988764\n",
            "45    0.989011\n",
            "46    0.989247\n",
            "47    0.989474\n",
            "48    0.989691\n",
            "49    0.989899\n",
            "50         NaN\n",
            "dtype: float64\n"
          ],
          "name": "stdout"
        }
      ]
    },
    {
      "cell_type": "markdown",
      "metadata": {
        "id": "5wLS-AuzvbA6",
        "colab_type": "text"
      },
      "source": [
        "#Write a Pandas program to compare (Equivalence, greater than, less than, not equal to )the elements of the two Pandas Series. Sample Series: [All positive numbers divisable by 7 upto 1000], [All positive numbers divisable by 11 upto 1000]"
      ]
    },
    {
      "cell_type": "code",
      "metadata": {
        "id": "hmmhzicQvgAx",
        "colab_type": "code",
        "colab": {
          "base_uri": "https://localhost:8080/",
          "height": 1000
        },
        "outputId": "c04dfc3c-de03-40bd-ae6b-eb1cf4de80f8"
      },
      "source": [
        "import pandas as pd\n",
        "l1=([i for i in range(0,1000) if i%7==0])\n",
        "d1 = pd.Series(l1)\n",
        "l2=([i for i in range(0,1000) if i%11==0])\n",
        "d2 = pd.Series(l2)\n",
        "print(\"Compare the elements of the said Series:\")\n",
        "print(\"Equals:\")\n",
        "for i in range (len(l2)):\n",
        "  print(i,\" \",d1[i]==d2[i])\n",
        "print(\"Greater than:\")\n",
        "for i in range(len(l2)):\n",
        "  print(i,\" \",d1[i]>d2[i])\n",
        "print(\"Less than:\")\n",
        "for i in range(len(l2)):\n",
        "  print(i,\" \",d1[i]<d2[i])"
      ],
      "execution_count": null,
      "outputs": [
        {
          "output_type": "stream",
          "text": [
            "Compare the elements of the said Series:\n",
            "Equals:\n",
            "0   True\n",
            "1   False\n",
            "2   False\n",
            "3   False\n",
            "4   False\n",
            "5   False\n",
            "6   False\n",
            "7   False\n",
            "8   False\n",
            "9   False\n",
            "10   False\n",
            "11   False\n",
            "12   False\n",
            "13   False\n",
            "14   False\n",
            "15   False\n",
            "16   False\n",
            "17   False\n",
            "18   False\n",
            "19   False\n",
            "20   False\n",
            "21   False\n",
            "22   False\n",
            "23   False\n",
            "24   False\n",
            "25   False\n",
            "26   False\n",
            "27   False\n",
            "28   False\n",
            "29   False\n",
            "30   False\n",
            "31   False\n",
            "32   False\n",
            "33   False\n",
            "34   False\n",
            "35   False\n",
            "36   False\n",
            "37   False\n",
            "38   False\n",
            "39   False\n",
            "40   False\n",
            "41   False\n",
            "42   False\n",
            "43   False\n",
            "44   False\n",
            "45   False\n",
            "46   False\n",
            "47   False\n",
            "48   False\n",
            "49   False\n",
            "50   False\n",
            "51   False\n",
            "52   False\n",
            "53   False\n",
            "54   False\n",
            "55   False\n",
            "56   False\n",
            "57   False\n",
            "58   False\n",
            "59   False\n",
            "60   False\n",
            "61   False\n",
            "62   False\n",
            "63   False\n",
            "64   False\n",
            "65   False\n",
            "66   False\n",
            "67   False\n",
            "68   False\n",
            "69   False\n",
            "70   False\n",
            "71   False\n",
            "72   False\n",
            "73   False\n",
            "74   False\n",
            "75   False\n",
            "76   False\n",
            "77   False\n",
            "78   False\n",
            "79   False\n",
            "80   False\n",
            "81   False\n",
            "82   False\n",
            "83   False\n",
            "84   False\n",
            "85   False\n",
            "86   False\n",
            "87   False\n",
            "88   False\n",
            "89   False\n",
            "90   False\n",
            "Greater than:\n",
            "0   False\n",
            "1   False\n",
            "2   False\n",
            "3   False\n",
            "4   False\n",
            "5   False\n",
            "6   False\n",
            "7   False\n",
            "8   False\n",
            "9   False\n",
            "10   False\n",
            "11   False\n",
            "12   False\n",
            "13   False\n",
            "14   False\n",
            "15   False\n",
            "16   False\n",
            "17   False\n",
            "18   False\n",
            "19   False\n",
            "20   False\n",
            "21   False\n",
            "22   False\n",
            "23   False\n",
            "24   False\n",
            "25   False\n",
            "26   False\n",
            "27   False\n",
            "28   False\n",
            "29   False\n",
            "30   False\n",
            "31   False\n",
            "32   False\n",
            "33   False\n",
            "34   False\n",
            "35   False\n",
            "36   False\n",
            "37   False\n",
            "38   False\n",
            "39   False\n",
            "40   False\n",
            "41   False\n",
            "42   False\n",
            "43   False\n",
            "44   False\n",
            "45   False\n",
            "46   False\n",
            "47   False\n",
            "48   False\n",
            "49   False\n",
            "50   False\n",
            "51   False\n",
            "52   False\n",
            "53   False\n",
            "54   False\n",
            "55   False\n",
            "56   False\n",
            "57   False\n",
            "58   False\n",
            "59   False\n",
            "60   False\n",
            "61   False\n",
            "62   False\n",
            "63   False\n",
            "64   False\n",
            "65   False\n",
            "66   False\n",
            "67   False\n",
            "68   False\n",
            "69   False\n",
            "70   False\n",
            "71   False\n",
            "72   False\n",
            "73   False\n",
            "74   False\n",
            "75   False\n",
            "76   False\n",
            "77   False\n",
            "78   False\n",
            "79   False\n",
            "80   False\n",
            "81   False\n",
            "82   False\n",
            "83   False\n",
            "84   False\n",
            "85   False\n",
            "86   False\n",
            "87   False\n",
            "88   False\n",
            "89   False\n",
            "90   False\n",
            "Less than:\n",
            "0   False\n",
            "1   True\n",
            "2   True\n",
            "3   True\n",
            "4   True\n",
            "5   True\n",
            "6   True\n",
            "7   True\n",
            "8   True\n",
            "9   True\n",
            "10   True\n",
            "11   True\n",
            "12   True\n",
            "13   True\n",
            "14   True\n",
            "15   True\n",
            "16   True\n",
            "17   True\n",
            "18   True\n",
            "19   True\n",
            "20   True\n",
            "21   True\n",
            "22   True\n",
            "23   True\n",
            "24   True\n",
            "25   True\n",
            "26   True\n",
            "27   True\n",
            "28   True\n",
            "29   True\n",
            "30   True\n",
            "31   True\n",
            "32   True\n",
            "33   True\n",
            "34   True\n",
            "35   True\n",
            "36   True\n",
            "37   True\n",
            "38   True\n",
            "39   True\n",
            "40   True\n",
            "41   True\n",
            "42   True\n",
            "43   True\n",
            "44   True\n",
            "45   True\n",
            "46   True\n",
            "47   True\n",
            "48   True\n",
            "49   True\n",
            "50   True\n",
            "51   True\n",
            "52   True\n",
            "53   True\n",
            "54   True\n",
            "55   True\n",
            "56   True\n",
            "57   True\n",
            "58   True\n",
            "59   True\n",
            "60   True\n",
            "61   True\n",
            "62   True\n",
            "63   True\n",
            "64   True\n",
            "65   True\n",
            "66   True\n",
            "67   True\n",
            "68   True\n",
            "69   True\n",
            "70   True\n",
            "71   True\n",
            "72   True\n",
            "73   True\n",
            "74   True\n",
            "75   True\n",
            "76   True\n",
            "77   True\n",
            "78   True\n",
            "79   True\n",
            "80   True\n",
            "81   True\n",
            "82   True\n",
            "83   True\n",
            "84   True\n",
            "85   True\n",
            "86   True\n",
            "87   True\n",
            "88   True\n",
            "89   True\n",
            "90   True\n"
          ],
          "name": "stdout"
        }
      ]
    },
    {
      "cell_type": "markdown",
      "metadata": {
        "id": "FUHt-Of_vkPR",
        "colab_type": "text"
      },
      "source": [
        "#Write a Pandas program to convert a NumPy array to a Pandas series. Sample NumPy array: d1 = [10, 20, 30, 40, 50... 1000]"
      ]
    },
    {
      "cell_type": "code",
      "metadata": {
        "id": "AaNEQ68svqOZ",
        "colab_type": "code",
        "colab": {
          "base_uri": "https://localhost:8080/",
          "height": 399
        },
        "outputId": "7adc750a-741f-4796-9b5c-ebca97038db8"
      },
      "source": [
        "import numpy as np\n",
        "import pandas as pd\n",
        "l1=([i for i in range(0,1001) if i%10==0])\n",
        "np_array = np.array(l1)\n",
        "print(\"NumPy array:\")\n",
        "print(np_array)\n",
        "new_series = pd.Series(np_array)\n",
        "print(\"Converted Pandas series:\")\n",
        "print(new_series)"
      ],
      "execution_count": null,
      "outputs": [
        {
          "output_type": "stream",
          "text": [
            "NumPy array:\n",
            "[   0   10   20   30   40   50   60   70   80   90  100  110  120  130\n",
            "  140  150  160  170  180  190  200  210  220  230  240  250  260  270\n",
            "  280  290  300  310  320  330  340  350  360  370  380  390  400  410\n",
            "  420  430  440  450  460  470  480  490  500  510  520  530  540  550\n",
            "  560  570  580  590  600  610  620  630  640  650  660  670  680  690\n",
            "  700  710  720  730  740  750  760  770  780  790  800  810  820  830\n",
            "  840  850  860  870  880  890  900  910  920  930  940  950  960  970\n",
            "  980  990 1000]\n",
            "Converted Pandas series:\n",
            "0         0\n",
            "1        10\n",
            "2        20\n",
            "3        30\n",
            "4        40\n",
            "       ... \n",
            "96      960\n",
            "97      970\n",
            "98      980\n",
            "99      990\n",
            "100    1000\n",
            "Length: 101, dtype: int64\n"
          ],
          "name": "stdout"
        }
      ]
    },
    {
      "cell_type": "markdown",
      "metadata": {
        "id": "7NefrsVAvwG-",
        "colab_type": "text"
      },
      "source": [
        "#Write a Pandas program to convert a given Series to an array. Sample series is ['100', '200', ‘300’,’400’,’500’,'python', '300.12', '400',’is’,’great’,’language’]"
      ]
    },
    {
      "cell_type": "code",
      "metadata": {
        "id": "vaPO1M3evydk",
        "colab_type": "code",
        "colab": {
          "base_uri": "https://localhost:8080/",
          "height": 295
        },
        "outputId": "20c8d1c8-17f1-417c-e287-c07a41e83630"
      },
      "source": [
        "import numpy as np\n",
        "s1 = pd.Series(['100', '200', '300','400','500','python', '300.12', '400','is','great','language'])\n",
        "print(\"Original Data Series:\")\n",
        "print(s1)\n",
        "print(\"Series to an array\")\n",
        "a = np.array(s1.values.tolist())\n",
        "print (a)"
      ],
      "execution_count": null,
      "outputs": [
        {
          "output_type": "stream",
          "text": [
            "Original Data Series:\n",
            "0          100\n",
            "1          200\n",
            "2          300\n",
            "3          400\n",
            "4          500\n",
            "5       python\n",
            "6       300.12\n",
            "7          400\n",
            "8           is\n",
            "9        great\n",
            "10    language\n",
            "dtype: object\n",
            "Series to an array\n",
            "['100' '200' '300' '400' '500' 'python' '300.12' '400' 'is' 'great'\n",
            " 'language']\n"
          ],
          "name": "stdout"
        }
      ]
    },
    {
      "cell_type": "markdown",
      "metadata": {
        "id": "2GA5P6MWv286",
        "colab_type": "text"
      },
      "source": [
        "#Write a Pandas program to sort a given Series. Sample series is ['100', '200', ‘300’,’400’,’500’,'python', '300.12', '400',’is’,’great’,’language’]"
      ]
    },
    {
      "cell_type": "code",
      "metadata": {
        "id": "cLQuvG1Sv8zU",
        "colab_type": "code",
        "colab": {
          "base_uri": "https://localhost:8080/",
          "height": 451
        },
        "outputId": "56f8c584-25ad-4e97-a68e-8d9714364f7d"
      },
      "source": [
        "import pandas as pd\n",
        "s = pd.Series(['100', '200', '300','400','500','python', '300.12', '400','is','great','language'])\n",
        "print(\"Original Data Series:\")\n",
        "print(s)\n",
        "new_s = pd.Series(s).sort_values()\n",
        "print(new_s)"
      ],
      "execution_count": null,
      "outputs": [
        {
          "output_type": "stream",
          "text": [
            "Original Data Series:\n",
            "0          100\n",
            "1          200\n",
            "2          300\n",
            "3          400\n",
            "4          500\n",
            "5       python\n",
            "6       300.12\n",
            "7          400\n",
            "8           is\n",
            "9        great\n",
            "10    language\n",
            "dtype: object\n",
            "0          100\n",
            "1          200\n",
            "2          300\n",
            "6       300.12\n",
            "3          400\n",
            "7          400\n",
            "4          500\n",
            "9        great\n",
            "8           is\n",
            "10    language\n",
            "5       python\n",
            "dtype: object\n"
          ],
          "name": "stdout"
        }
      ]
    },
    {
      "cell_type": "markdown",
      "metadata": {
        "id": "HzuyHaI8wBE3",
        "colab_type": "text"
      },
      "source": [
        "#Write a Pandas program to create a subsets of a given series based on value and condition. ample NumPy array: d1 = [10, 20, 30, 40, 50... 1000] value and condtion : Subset 1 :numbers divisable by 7 Subset 2 : numbers divisable by 5"
      ]
    },
    {
      "cell_type": "code",
      "metadata": {
        "id": "a6iQQtVfwHto",
        "colab_type": "code",
        "colab": {
          "base_uri": "https://localhost:8080/",
          "height": 763
        },
        "outputId": "761348b6-6917-405c-9d57-62e4d66abe14"
      },
      "source": [
        "import pandas as pd\n",
        "l1=([i for i in range(0,1001) if i%10==0])\n",
        "s = pd.Series(l1)\n",
        "print(\"Original Data Series:\")\n",
        "print(s)\n",
        "print(\"\\nSubset of the above Data Series:\")\n",
        "n=7\n",
        "new_s = s[s%n==0]\n",
        "print(new_s)\n",
        "n=5\n",
        "new_s = s[s%n==0]\n",
        "print(new_s)"
      ],
      "execution_count": null,
      "outputs": [
        {
          "output_type": "stream",
          "text": [
            "Original Data Series:\n",
            "0         0\n",
            "1        10\n",
            "2        20\n",
            "3        30\n",
            "4        40\n",
            "       ... \n",
            "96      960\n",
            "97      970\n",
            "98      980\n",
            "99      990\n",
            "100    1000\n",
            "Length: 101, dtype: int64\n",
            "\n",
            "Subset of the above Data Series:\n",
            "0       0\n",
            "7      70\n",
            "14    140\n",
            "21    210\n",
            "28    280\n",
            "35    350\n",
            "42    420\n",
            "49    490\n",
            "56    560\n",
            "63    630\n",
            "70    700\n",
            "77    770\n",
            "84    840\n",
            "91    910\n",
            "98    980\n",
            "dtype: int64\n",
            "0         0\n",
            "1        10\n",
            "2        20\n",
            "3        30\n",
            "4        40\n",
            "       ... \n",
            "96      960\n",
            "97      970\n",
            "98      980\n",
            "99      990\n",
            "100    1000\n",
            "Length: 101, dtype: int64\n"
          ],
          "name": "stdout"
        }
      ]
    },
    {
      "cell_type": "markdown",
      "metadata": {
        "id": "lRisse3UwQfC",
        "colab_type": "text"
      },
      "source": [
        "#Write a Pandas program to create the mean and standard deviation, maximum and minimum of the data of a given Series of the prime numbers upto 1000"
      ]
    },
    {
      "cell_type": "code",
      "metadata": {
        "id": "LjcAbuPswU7p",
        "colab_type": "code",
        "colab": {
          "base_uri": "https://localhost:8080/",
          "height": 312
        },
        "outputId": "ca73523c-539e-453e-bfe8-2edc0a224aed"
      },
      "source": [
        "import pandas as pd\n",
        "l=[]\n",
        "for val in range(0,1001):\n",
        "  if val > 1: \n",
        "        for n in range(2, val//2 + 2): \n",
        "            if (val % n) == 0: \n",
        "                break\n",
        "            else: \n",
        "                if n == val//2 + 1: \n",
        "                    l.append(val)\n",
        "s = pd.Series(data = l)\n",
        "print(\"Original Data Series:\")\n",
        "print(s)\n",
        "print(\"Mean of the said Data Series:\")\n",
        "print(s.mean())\n",
        "print(\"Standard deviation of the said Data Series:\")\n",
        "print(s.std())"
      ],
      "execution_count": null,
      "outputs": [
        {
          "output_type": "stream",
          "text": [
            "Original Data Series:\n",
            "0        3\n",
            "1        5\n",
            "2        7\n",
            "3       11\n",
            "4       13\n",
            "      ... \n",
            "162    971\n",
            "163    977\n",
            "164    983\n",
            "165    991\n",
            "166    997\n",
            "Length: 167, dtype: int64\n",
            "Mean of the said Data Series:\n",
            "455.8383233532934\n",
            "Standard deviation of the said Data Series:\n",
            "297.0201672063572\n"
          ],
          "name": "stdout"
        }
      ]
    },
    {
      "cell_type": "markdown",
      "metadata": {
        "id": "dZKD2YDdwYdV",
        "colab_type": "text"
      },
      "source": [
        "#Write a Pandas program to get the elements of an array values into column-wise. Sample data: {‘X’:[All odd numbers but not divisable by 7 upto 1000], 'Y':[ All even numbers but not divisable by 5 upto 1000 ],'Z':[ All odd numbers but not divisable by 3 upto 1000]}"
      ]
    },
    {
      "cell_type": "code",
      "metadata": {
        "id": "R5gNH11Ww_-E",
        "colab_type": "code",
        "colab": {
          "base_uri": "https://localhost:8080/",
          "height": 121
        },
        "outputId": "45dd0884-dc62-4ee7-cf23-2c2fa9aa7e6c"
      },
      "source": [
        "import pandas as pd\n",
        "df = pd.DataFrame({'X':[78,85,96,80,86], 'Y':[84,94,89,83,86],'Z':[86,97,96,72,83]});\n",
        "print(df)"
      ],
      "execution_count": null,
      "outputs": [
        {
          "output_type": "stream",
          "text": [
            "    X   Y   Z\n",
            "0  78  84  86\n",
            "1  85  94  97\n",
            "2  96  89  96\n",
            "3  80  83  72\n",
            "4  86  86  83\n"
          ],
          "name": "stdout"
        }
      ]
    },
    {
      "cell_type": "markdown",
      "metadata": {
        "id": "gHfxRF_qxFKM",
        "colab_type": "text"
      },
      "source": [
        "#Write a Pandas program to display the first 10 rows of the DataFrame for any particular three fields"
      ]
    },
    {
      "cell_type": "code",
      "metadata": {
        "id": "GjlwlbRb44O-",
        "colab_type": "code",
        "colab": {
          "base_uri": "https://localhost:8080/",
          "height": 104
        },
        "outputId": "4b99e8d7-1b81-4ab4-b649-6253bde4501f"
      },
      "source": [
        "import pandas as pd\n",
        "import numpy as np\n",
        "import pandas as pd\n",
        "import numpy as np\n",
        "\n",
        "exam_data  = {'name': ['mahek', 'Danish', 'Katherine', 'James', 'Emily', 'Michael', 'Matthew', 'Laura', 'Kevin', 'Jonas'],\n",
        "        'score': [12.5, 9, 16.5, np.nan, 9, 20, 14.5, np.nan, 8, 19],\n",
        "        'attempts': [1, 3, 2, 3, 2, 3, 1, 1, 2, 1],\n",
        "        'qualify': ['yes', 'no', 'yes', 'no', 'no', 'yes', 'yes', 'no', 'no', 'yes']}\n",
        "labels = ['a', 'b', 'c', 'd', 'e', 'f', 'g', 'h', 'i', 'j']\n",
        "\n",
        "df = pd.DataFrame(exam_data , index=labels)\n",
        "print(\"First three rows of the data frame:\")\n",
        "print(df.iloc[:3])"
      ],
      "execution_count": null,
      "outputs": [
        {
          "output_type": "stream",
          "text": [
            "First three rows of the data frame:\n",
            "        name  score  attempts qualify\n",
            "a      mahek   12.5         1     yes\n",
            "b     Danish    9.0         3      no\n",
            "c  Katherine   16.5         2     yes\n"
          ],
          "name": "stdout"
        }
      ]
    },
    {
      "cell_type": "code",
      "metadata": {
        "id": "2t98Lfvt5dy_",
        "colab_type": "code",
        "colab": {}
      },
      "source": [
        "!pip install -U -q PyDrive\n",
        "from pydrive.auth import GoogleAuth\n",
        "from pydrive.drive import GoogleDrive\n",
        "from google.colab import auth\n",
        "from oauth2client.client import GoogleCredentials"
      ],
      "execution_count": null,
      "outputs": []
    },
    {
      "cell_type": "code",
      "metadata": {
        "id": "u_sZu17s5oGR",
        "colab_type": "code",
        "colab": {}
      },
      "source": [
        "auth.authenticate_user()\n",
        "gauth = GoogleAuth()\n",
        "gauth.credentials = GoogleCredentials.get_application_default()\n",
        "drive = GoogleDrive(gauth)"
      ],
      "execution_count": 42,
      "outputs": []
    },
    {
      "cell_type": "code",
      "metadata": {
        "id": "nvGOAPG6PWE8",
        "colab_type": "code",
        "colab": {}
      },
      "source": [
        "downloaded = drive.CreateFile({'id':'1WoQm1twpMmaX9miO0KPVeugSWAMeU26O'}) # replace the id with id of file you want to access\n",
        "downloaded.GetContentFile('movies_metadata.csv')"
      ],
      "execution_count": 47,
      "outputs": []
    },
    {
      "cell_type": "code",
      "metadata": {
        "id": "nIRxt-db59J_",
        "colab_type": "code",
        "colab": {
          "base_uri": "https://localhost:8080/",
          "height": 87
        },
        "outputId": "93259258-3ea3-40a0-e5b1-b61b81137c6c"
      },
      "source": [
        "import pandas as pd\n",
        "xyz = pd.read_csv('movies_metadata.csv') \n",
        "print(xyz.head(1))"
      ],
      "execution_count": 48,
      "outputs": [
        {
          "output_type": "stream",
          "text": [
            "   color  director_name  ...  movie_facebook_likes  Unnamed: 28\n",
            "0  Color  James Cameron  ...                 33000          NaN\n",
            "\n",
            "[1 rows x 29 columns]\n"
          ],
          "name": "stdout"
        }
      ]
    },
    {
      "cell_type": "markdown",
      "metadata": {
        "id": "rZkKWrlFSu1z",
        "colab_type": "text"
      },
      "source": [
        "#Write a Pandas program to get the details of the seventh movie of the DataFrame for any particular three fields #(movie_metadata.csv file)."
      ]
    },
    {
      "cell_type": "code",
      "metadata": {
        "id": "_SfDDthNSyg7",
        "colab_type": "code",
        "colab": {
          "base_uri": "https://localhost:8080/",
          "height": 555
        },
        "outputId": "953c295c-0726-4842-b453-dd3e028d1a22"
      },
      "source": [
        "import pandas as pd\n",
        "df = pd.read_csv('movies_metadata.csv')\n",
        "seventh_movie = df.iloc[3]\n",
        "print(\"Details of the seventh movie:\")\n",
        "print(seventh_movie)"
      ],
      "execution_count": 49,
      "outputs": [
        {
          "output_type": "stream",
          "text": [
            "Details of the seventh movie:\n",
            "color                                                                    Color\n",
            "director_name                                                Christopher Nolan\n",
            "num_critic_for_reviews                                                     813\n",
            "duration                                                                   164\n",
            "director_facebook_likes                                                  22000\n",
            "actor_3_facebook_likes                                                   23000\n",
            "actor_2_name                                                    Christian Bale\n",
            "actor_1_facebook_likes                                                   27000\n",
            "gross                                                              4.48131e+08\n",
            "genres                                                         Action|Thriller\n",
            "actor_1_name                                                         Tom Hardy\n",
            "movie_title                                             The Dark Knight Rises \n",
            "num_voted_users                                                        1144337\n",
            "cast_total_facebook_likes                                               106759\n",
            "actor_3_name                                              Joseph Gordon-Levitt\n",
            "facenumber_in_poster                                                         0\n",
            "plot_keywords                deception|imprisonment|lawlessness|police offi...\n",
            "movie_imdb_link              http://www.imdb.com/title/tt1345836/?ref_=fn_t...\n",
            "num_user_for_reviews                                                      2701\n",
            "language                                                               English\n",
            "country                                                                    USA\n",
            "content_rating                                                           PG-13\n",
            "budget                                                                 2.5e+08\n",
            "title_year                                                                2012\n",
            "actor_2_facebook_likes                                                   23000\n",
            "imdb_score                                                                 8.5\n",
            "aspect_ratio                                                              2.35\n",
            "movie_facebook_likes                                                    164000\n",
            "Unnamed: 28                                                                NaN\n",
            "Name: 3, dtype: object\n"
          ],
          "name": "stdout"
        }
      ]
    },
    {
      "cell_type": "markdown",
      "metadata": {
        "id": "anFrrtndTEOg",
        "colab_type": "text"
      },
      "source": [
        "#Write a Pandas program to sort the DataFrame based on title_year from dataset of movie_metadata.csv for any particular three fields"
      ]
    },
    {
      "cell_type": "code",
      "metadata": {
        "id": "Ky-CKxCxTF1F",
        "colab_type": "code",
        "colab": {
          "base_uri": "https://localhost:8080/",
          "height": 141
        },
        "outputId": "ab721dd0-9329-4ccd-dd16-b17019b06b18"
      },
      "source": [
        "import pandas as pd\n",
        "df = pd.read_csv('movies_metadata.csv')\n",
        "result = df[[]]\n",
        "print(\"Details of title and genres:\")\n",
        "print(result)"
      ],
      "execution_count": 54,
      "outputs": [
        {
          "output_type": "stream",
          "text": [
            "Details of title and genres:\n",
            "Empty DataFrame\n",
            "Columns: []\n",
            "Index: [0, 1, 2, 3, 4, 5, 6, 7, 8, 9, 10, 11, 12, 13, 14, 15, 16, 17, 18, 19, 20, 21, 22, 23, 24, 25, 26, 27, 28, 29, 30, 31, 32, 33, 34, 35, 36, 37, 38, 39, 40, 41, 42, 43, 44, 45, 46, 47, 48, 49, 50, 51, 52, 53, 54, 55, 56, 57, 58, 59, 60, 61, 62, 63, 64, 65, 66, 67, 68, 69, 70, 71, 72, 73, 74, 75, 76, 77, 78, 79, 80, 81, 82, 83, 84, 85, 86, 87, 88, 89, 90, 91, 92, 93, 94, 95, 96, 97, 98, 99, ...]\n",
            "\n",
            "[5043 rows x 0 columns]\n"
          ],
          "name": "stdout"
        }
      ]
    },
    {
      "cell_type": "markdown",
      "metadata": {
        "id": "zgBjPuxO133W",
        "colab_type": "text"
      },
      "source": [
        "#Write a NumPy program to create a random 4x4 array and extract the 2nd and 3rd rows of the array and store them into a variable."
      ]
    },
    {
      "cell_type": "code",
      "metadata": {
        "id": "InRxV_lc2A9X",
        "colab_type": "code",
        "colab": {
          "base_uri": "https://localhost:8080/",
          "height": 139
        },
        "outputId": "9476d366-fbd6-48ad-8577-35aba46a42ab"
      },
      "source": [
        "import numpy as np\n",
        "x = np.random.random((4,4))\n",
        "print(x)\n",
        "print(\"2nd and 3rd rows of the above array:\")\n",
        "y= x[1:3, :]\n",
        "print(y)"
      ],
      "execution_count": null,
      "outputs": [
        {
          "output_type": "stream",
          "text": [
            "[[0.40391001 0.18349205 0.23515526 0.93752209]\n",
            " [0.35623378 0.61340812 0.6708745  0.19991775]\n",
            " [0.52383552 0.22268757 0.9144551  0.20347416]\n",
            " [0.48491559 0.37277553 0.60642242 0.7441536 ]]\n",
            "2nd and 3rd rows of the above array:\n",
            "[[0.35623378 0.61340812 0.6708745  0.19991775]\n",
            " [0.52383552 0.22268757 0.9144551  0.20347416]]\n"
          ],
          "name": "stdout"
        }
      ]
    },
    {
      "cell_type": "code",
      "metadata": {
        "id": "vupMw9ay5aV1",
        "colab_type": "code",
        "colab": {}
      },
      "source": [
        ""
      ],
      "execution_count": null,
      "outputs": []
    },
    {
      "cell_type": "markdown",
      "metadata": {
        "id": "pMHfbWwk2uVH",
        "colab_type": "text"
      },
      "source": [
        "#Write a NumPy program to create a 10x10 array with random values and find the minimum and maximum values."
      ]
    },
    {
      "cell_type": "code",
      "metadata": {
        "id": "rnnuPcBZ2v06",
        "colab_type": "code",
        "colab": {
          "base_uri": "https://localhost:8080/",
          "height": 416
        },
        "outputId": "80b4bcea-beb1-4cf8-d2cb-8a7548facd8f"
      },
      "source": [
        "import numpy as np\n",
        "x = np.random.random((10,10))\n",
        "print(\"Original Array:\")\n",
        "print(x) \n",
        "xmin, xmax = x.min(), x.max()\n",
        "print(\"Minimum and Maximum Values:\")\n",
        "print(xmin, xmax)"
      ],
      "execution_count": null,
      "outputs": [
        {
          "output_type": "stream",
          "text": [
            "Original Array:\n",
            "[[0.9508366  0.28295214 0.11575012 0.21036535 0.67468667 0.64183475\n",
            "  0.56923262 0.86564129 0.80223335 0.13726711]\n",
            " [0.19559462 0.60608823 0.8330576  0.68921489 0.71117753 0.5481053\n",
            "  0.97300338 0.33482916 0.43266545 0.27700984]\n",
            " [0.09411515 0.19876074 0.49825567 0.77027688 0.55950304 0.95857633\n",
            "  0.32278872 0.74727847 0.61461798 0.31099048]\n",
            " [0.14100755 0.56663756 0.09847456 0.6519754  0.04562476 0.17758103\n",
            "  0.11984839 0.47091422 0.55626571 0.79729755]\n",
            " [0.81864679 0.46818328 0.82881483 0.17693613 0.68784349 0.33613724\n",
            "  0.66963958 0.18687703 0.69206239 0.28441192]\n",
            " [0.80492928 0.11650548 0.48779603 0.75738073 0.58264539 0.88952528\n",
            "  0.43155925 0.51196102 0.56143284 0.9433168 ]\n",
            " [0.69066374 0.42292978 0.90187303 0.68654042 0.88531345 0.43710478\n",
            "  0.27808349 0.15904889 0.66165107 0.51804977]\n",
            " [0.64565515 0.57917335 0.94615861 0.68012002 0.96692108 0.80185208\n",
            "  0.00130527 0.07197414 0.96110895 0.42140008]\n",
            " [0.54822217 0.03326279 0.3852361  0.60984686 0.02915538 0.95159074\n",
            "  0.87095163 0.38235903 0.00712858 0.85262839]\n",
            " [0.18644736 0.45319297 0.7853264  0.64682675 0.49251094 0.43959444\n",
            "  0.00352278 0.10771739 0.75821318 0.35486677]]\n",
            "Minimum and Maximum Values:\n",
            "0.0013052734849271497 0.973003377662709\n"
          ],
          "name": "stdout"
        }
      ]
    },
    {
      "cell_type": "markdown",
      "metadata": {
        "id": "JvPuP6rr2y1d",
        "colab_type": "text"
      },
      "source": [
        "#Write a NumPy program to generate 8 random integers between 100 and 300"
      ]
    },
    {
      "cell_type": "code",
      "metadata": {
        "id": "So_HG6H826kP",
        "colab_type": "code",
        "colab": {
          "base_uri": "https://localhost:8080/",
          "height": 35
        },
        "outputId": "42dcf829-3d75-424c-cc34-5ed85727641c"
      },
      "source": [
        "import numpy as np\n",
        "x = np.random.randint(low=100, high=300, size=8)\n",
        "print(x)"
      ],
      "execution_count": null,
      "outputs": [
        {
          "output_type": "stream",
          "text": [
            "[225 191 119 253 135 215 240 133]\n"
          ],
          "name": "stdout"
        }
      ]
    },
    {
      "cell_type": "markdown",
      "metadata": {
        "id": "71aAZikj3I36",
        "colab_type": "text"
      },
      "source": [
        "#Write a NumPy program to create a random integer nos of size 20 and sort it."
      ]
    },
    {
      "cell_type": "code",
      "metadata": {
        "id": "sJulFpcq3MV5",
        "colab_type": "code",
        "colab": {
          "base_uri": "https://localhost:8080/",
          "height": 52
        },
        "outputId": "c2108fe8-6012-471e-924b-e5efd51ba95b"
      },
      "source": [
        "import numpy as np\n",
        "x=np.arange(20)\n",
        "np.random.shuffle(x)\n",
        "print(x)\n",
        "x.sort()\n",
        "print(x)"
      ],
      "execution_count": null,
      "outputs": [
        {
          "output_type": "stream",
          "text": [
            "[10 13 17 11  7  4 16 14  0  5  2  3 18  6 15  1 19  9 12  8]\n",
            "[ 0  1  2  3  4  5  6  7  8  9 10 11 12 13 14 15 16 17 18 19]\n"
          ],
          "name": "stdout"
        }
      ]
    }
  ]
}