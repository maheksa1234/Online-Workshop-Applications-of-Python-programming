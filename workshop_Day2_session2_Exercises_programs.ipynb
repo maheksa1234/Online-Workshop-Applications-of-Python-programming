{
  "nbformat": 4,
  "nbformat_minor": 0,
  "metadata": {
    "colab": {
      "name": "workshop Day2  session2 Exercises programs",
      "provenance": [],
      "collapsed_sections": [],
      "authorship_tag": "ABX9TyN5Ikabv81muPIjEzVUb10F",
      "include_colab_link": true
    },
    "kernelspec": {
      "name": "python3",
      "display_name": "Python 3"
    }
  },
  "cells": [
    {
      "cell_type": "markdown",
      "metadata": {
        "id": "view-in-github",
        "colab_type": "text"
      },
      "source": [
        "<a href=\"https://colab.research.google.com/github/maheksa1234/Online-Workshop-Applications-of-Python-programming/blob/master/workshop_Day2_session2_Exercises_programs.ipynb\" target=\"_parent\"><img src=\"https://colab.research.google.com/assets/colab-badge.svg\" alt=\"Open In Colab\"/></a>"
      ]
    },
    {
      "cell_type": "code",
      "metadata": {
        "id": "-pcN4_iTMIwr",
        "colab_type": "code",
        "colab": {}
      },
      "source": [
        ""
      ],
      "execution_count": 0,
      "outputs": []
    },
    {
      "cell_type": "markdown",
      "metadata": {
        "id": "sVSiuN9AMYIj",
        "colab_type": "text"
      },
      "source": [
        "#Dictionary Exercises"
      ]
    },
    {
      "cell_type": "markdown",
      "metadata": {
        "id": "u3KemUmsMZwV",
        "colab_type": "text"
      },
      "source": [
        "#Add rollno and marks {name:mark} for n number of students through keyboard in a dictionary and print the marks in descending order with respective name."
      ]
    },
    {
      "cell_type": "code",
      "metadata": {
        "id": "q-twUNiRMdrL",
        "colab_type": "code",
        "colab": {
          "base_uri": "https://localhost:8080/",
          "height": 173
        },
        "outputId": "438fb83b-fa2a-4b6d-c905-0d4f65371abb"
      },
      "source": [
        "n=int(input(\"Enter no of records\"))\n",
        "d={}\n",
        "import operator\n",
        "for i in range(1,n+1):\n",
        "  name= input(\"Enter name %d\"%(i))\n",
        "  mark=int(input(\"Enter mark %d\"%(i)))\n",
        "  d[name]=mark\n",
        "print(\"input: \",d)\n",
        "sorted_a= sorted(d.items(), key=operator.itemgetter(1),reverse=True)\n",
        "print(\"output: \",sorted_a)"
      ],
      "execution_count": 1,
      "outputs": [
        {
          "output_type": "stream",
          "text": [
            "Enter no of records3\n",
            "Enter name 1mahek\n",
            "Enter mark 199\n",
            "Enter name 2rimsha\n",
            "Enter mark 287\n",
            "Enter name 3danish\n",
            "Enter mark 390\n",
            "input:  {'mahek': 99, 'rimsha': 87, 'danish': 90}\n",
            "output:  [('mahek', 99), ('danish', 90), ('rimsha', 87)]\n"
          ],
          "name": "stdout"
        }
      ]
    },
    {
      "cell_type": "markdown",
      "metadata": {
        "id": "mZ6l_iqhNJ4e",
        "colab_type": "text"
      },
      "source": [
        "#Add name and salary {name:salary} for n number of employees through keyboard in a dictionary and print them in name alphabetical order with salary"
      ]
    },
    {
      "cell_type": "code",
      "metadata": {
        "id": "0iZY-f4bNPF9",
        "colab_type": "code",
        "colab": {
          "base_uri": "https://localhost:8080/",
          "height": 139
        },
        "outputId": "a7f24c2a-f47a-4868-ea98-bd50d4726220"
      },
      "source": [
        "n=int(input(\"Enter no of records\"))\n",
        "d={}\n",
        "import operator\n",
        "for i in range(1,n+1):\n",
        "  name= input(\"Enter name %d\"%(i))\n",
        "  s=float(input(\"Enter salary %d\"%(i)))\n",
        "  d[name]=s\n",
        "print(\"input: \",d)\n",
        "sorted_a= sorted(d.items(), key=operator.itemgetter(0))\n",
        "print(\"output: \",sorted_a)"
      ],
      "execution_count": 2,
      "outputs": [
        {
          "output_type": "stream",
          "text": [
            "Enter no of records2\n",
            "Enter name 1lata\n",
            "Enter salary 150\n",
            "Enter name 2megha\n",
            "Enter salary 2400\n",
            "input:  {'lata': 50.0, 'megha': 400.0}\n",
            "output:  [('lata', 50.0), ('megha', 400.0)]\n"
          ],
          "name": "stdout"
        }
      ]
    },
    {
      "cell_type": "markdown",
      "metadata": {
        "id": "mj9cSfgrNjn1",
        "colab_type": "text"
      },
      "source": [
        "#Add name and salary {name:salary} for n number of employees through keyboard in a dictionary and print them in salary ascending order and sum, max, min and average of the salaries"
      ]
    },
    {
      "cell_type": "code",
      "metadata": {
        "id": "JM2YUCOdNp_s",
        "colab_type": "code",
        "colab": {
          "base_uri": "https://localhost:8080/",
          "height": 243
        },
        "outputId": "e778bf4d-fcbe-49e0-e9ab-087ea9610edb"
      },
      "source": [
        "n=int(input(\"Enter no of records\"))\n",
        "d={}\n",
        "import operator\n",
        "for i in range(1,n+1):\n",
        "  name= input(\"Enter name %d\"%(i))\n",
        "  s=float(input(\"Enter salary %d\"%(i)))\n",
        "  d[name]=s\n",
        "print(\"input: \",d)\n",
        "sorted_a= sorted(d.items(), key=operator.itemgetter(1))\n",
        "print(\"output: \",sorted_a)\n",
        "v = d.values()\n",
        "print(\"sum: \",sum(v))\n",
        "print(\"max: \",max(v))\n",
        "print(\"min: \",min(v))\n",
        "print(\"avg: \",(sum(v)/n))"
      ],
      "execution_count": 3,
      "outputs": [
        {
          "output_type": "stream",
          "text": [
            "Enter no of records3\n",
            "Enter name 1pk\n",
            "Enter salary 1100\n",
            "Enter name 2jp\n",
            "Enter salary 2300\n",
            "Enter name 3lata\n",
            "Enter salary 3900\n",
            "input:  {'pk': 100.0, 'jp': 300.0, 'lata': 900.0}\n",
            "output:  [('pk', 100.0), ('jp', 300.0), ('lata', 900.0)]\n",
            "sum:  1300.0\n",
            "max:  900.0\n",
            "min:  100.0\n",
            "avg:  433.3333333333333\n"
          ],
          "name": "stdout"
        }
      ]
    },
    {
      "cell_type": "markdown",
      "metadata": {
        "id": "cOyAZZQdN2br",
        "colab_type": "text"
      },
      "source": [
        "#Add name and salary {name:salary} for n number of employees through keyboard in a dictionary and print only the employees whose salary is greater than 2000 but less than 4000"
      ]
    },
    {
      "cell_type": "code",
      "metadata": {
        "id": "RY1r7QuiN7cA",
        "colab_type": "code",
        "colab": {
          "base_uri": "https://localhost:8080/",
          "height": 225
        },
        "outputId": "521a6b77-7ebb-4759-d769-3c68316f9e59"
      },
      "source": [
        "n=int(input(\"Enter no of records\"))\n",
        "d={}\n",
        "import operator\n",
        "for i in range(1,n+1):\n",
        "  name= input(\"Enter name %d\"%(i))\n",
        "  s=int(input(\"Enter salary %d\"%(i)))\n",
        "  d[name]=s\n",
        "print(\"input: \",d)\n",
        "for key,value in d.items():\n",
        "    if value>=2000 and value<=4000:\n",
        "         print(d[key],\"=\",key)"
      ],
      "execution_count": 6,
      "outputs": [
        {
          "output_type": "stream",
          "text": [
            "Enter no of records3\n",
            "Enter name 1mahesh\n",
            "Enter salary 12000\n",
            "Enter name 2rani\n",
            "Enter salary 23000\n",
            "Enter name 3shilpa\n",
            "Enter salary 38000\n",
            "input:  {'mahesh': 2000, 'rani': 3000, 'shilpa': 8000}\n",
            "2000 = mahesh\n",
            "3000 = rani\n",
            "Enter no of records0\n",
            "input:  {}\n"
          ],
          "name": "stdout"
        }
      ]
    },
    {
      "cell_type": "markdown",
      "metadata": {
        "id": "_92UMjOAPOGC",
        "colab_type": "text"
      },
      "source": [
        "#Python program to convert a 3 digit number into words"
      ]
    },
    {
      "cell_type": "code",
      "metadata": {
        "id": "NCJtSPRgPS9k",
        "colab_type": "code",
        "colab": {
          "base_uri": "https://localhost:8080/",
          "height": 52
        },
        "outputId": "2b69700c-b8bc-4e9a-ff10-5fb7c65be0ee"
      },
      "source": [
        "def convert_to_words(num): \n",
        "\tl = len(num)\n",
        "\tif (l == 0): \n",
        "\t\tprint(\"empty string\")\n",
        "\t\treturn; \n",
        "\tif (l > 4): \n",
        "\t\tprint(\"Length more than 4 is not supported\"); \n",
        "\t\treturn; \n",
        "\tsingle_digits = [\"zero\", \"one\", \"two\", \"three\", \n",
        "\t\t\t\t\t\"four\", \"five\", \"six\", \"seven\", \n",
        "\t\t\t\t\t\"eight\", \"nine\"]\n",
        "\ttwo_digits = [\"\", \"ten\", \"eleven\", \"twelve\", \n",
        "\t\t\t\t\"thirteen\", \"fourteen\", \"fifteen\", \n",
        "\t\t\t\t\"sixteen\", \"seventeen\", \"eighteen\", \n",
        "\t\t\t\t\"nineteen\"]\n",
        "\ttens_multiple = [\"\", \"\", \"twenty\", \"thirty\", \"forty\", \n",
        "\t\t\t\t\t\"fifty\", \"sixty\", \"seventy\", \"eighty\", \n",
        "\t\t\t\t\t\"ninety\"]; \n",
        "\ttens_power = [\"hundred\", \"thousand\"]\n",
        "\tprint(num, \":\", end = \" \") \n",
        "\tif (l == 1): \n",
        "\t\tprint(single_digits[ord(num[0]) - '0']) \n",
        "\t\treturn\n",
        "\tx = 0; \n",
        "\twhile (x < len(num)): \n",
        "\t\tif (l >= 3): \n",
        "\t\t\tif (ord(num[x]) - 48 != 0): \n",
        "\t\t\t\tprint(single_digits[ord(num[x]) - 48], \n",
        "\t\t\t\t\t\t\t\t\t\tend = \" \")\n",
        "\t\t\t\tprint(tens_power[l - 3], end = \" \") \n",
        "\t\t\tl -= 1 \n",
        "\t\telse: \n",
        "\t\t\tif (ord(num[x]) - 48 == 1): \n",
        "\t\t\t\tsum = (ord(num[x]) - 48 +\n",
        "\t\t\t\t\tord(num[x]) - 48); \n",
        "\t\t\t\tprint(two_digits[sum])\n",
        "\t\t\t\treturn; \n",
        "\t\t\telif (ord(num[x]) - 48 == 2 and\n",
        "\t\t\t\tord(num[x + 1]) - 48 == 0): \n",
        "\t\t\t\tprint(\"twenty\")\n",
        "\t\t\t\treturn; \n",
        "\t\t\telse: \n",
        "\t\t\t\ti = ord(num[x]) - 48\n",
        "\t\t\t\tif(i > 0): \n",
        "\t\t\t\t\tprint(tens_multiple[i], end = \" \")\n",
        "\t\t\t\telse: \n",
        "\t\t\t\t\tprint(\"\", end = \"\")\n",
        "\t\t\t\tx += 1; \n",
        "\t\t\t\tif(ord(num[x]) - 48 != 0): \n",
        "\t\t\t\t\tprint(single_digits[ord(num[x]) - 48])\n",
        "\t\tx += 1; \n",
        "n=(input(\"enter num: \"))\n",
        "convert_to_words(n)"
      ],
      "execution_count": 7,
      "outputs": [
        {
          "output_type": "stream",
          "text": [
            "enter num: 450\n",
            "450 : four hundred fifty "
          ],
          "name": "stdout"
        }
      ]
    },
    {
      "cell_type": "markdown",
      "metadata": {
        "id": "p5SacV2MQIK7",
        "colab_type": "text"
      },
      "source": [
        "#Files Exercises"
      ]
    },
    {
      "cell_type": "markdown",
      "metadata": {
        "id": "WEgTDTFVQLXH",
        "colab_type": "text"
      },
      "source": [
        "#Python Program to count the total number of charaters (except blank space) in a text file"
      ]
    },
    {
      "cell_type": "code",
      "metadata": {
        "id": "T15cFhUuQO5U",
        "colab_type": "code",
        "colab": {}
      },
      "source": [
        "input_file = input(\"Enter File name : \")\n",
        "file_txt = open(input_file)\t\t\n",
        "text = file_txt.read()\t\t\t\n",
        "charc = 0\t\n",
        "for i in text:\t\t\t\t\n",
        "\tif(i != \" \" and i != \"\\n\" ):\n",
        "\t\t charc += 1\n",
        " \n",
        "print (\"total num of characters: \",charc);"
      ],
      "execution_count": 0,
      "outputs": []
    },
    {
      "cell_type": "markdown",
      "metadata": {
        "id": "qC3RKy9ZQysD",
        "colab_type": "text"
      },
      "source": [
        "total num of characters:  20"
      ]
    },
    {
      "cell_type": "markdown",
      "metadata": {
        "id": "juAqW1rJQ5tW",
        "colab_type": "text"
      },
      "source": [
        "#Python Program to print all the numbers present in a text file with its total number of occurrence."
      ]
    },
    {
      "cell_type": "code",
      "metadata": {
        "id": "VLpR_rP6Q_mE",
        "colab_type": "code",
        "colab": {}
      },
      "source": [
        "input_file = input(\"Enter File name : \")\n",
        "file_txt = open(input_file)\t\t\n",
        "text = file_txt.read()\t\n",
        "w = []\t\n",
        "d = dict() \n",
        "for line in text: \n",
        "    line = line.strip() \t\n",
        "    if(line.isdigit()):\n",
        "           w.append(line)\n",
        "for j in w:\n",
        "      if j in d:\n",
        "        d[j] = d[j] + 1\n",
        "      else: \n",
        "            d[j] = 1 \n",
        "for key in list(d.keys()): \n",
        "    print(key, \":\", d[key])"
      ],
      "execution_count": 0,
      "outputs": []
    },
    {
      "cell_type": "markdown",
      "metadata": {
        "id": "wAf_w4TiRHhT",
        "colab_type": "text"
      },
      "source": [
        "Enter File name : opo.txt\n",
        "\n",
        "1 : 2\n",
        "2 : 3\n",
        "3 : 3\n",
        "4 : 1\n",
        "5 : 1"
      ]
    },
    {
      "cell_type": "markdown",
      "metadata": {
        "id": "pviHU5VWRQ3s",
        "colab_type": "text"
      },
      "source": [
        "#Python Program to append the contents of one file to another file by getting the both file names through keyboard ."
      ]
    },
    {
      "cell_type": "code",
      "metadata": {
        "id": "OwD_nlQJRWSG",
        "colab_type": "code",
        "colab": {}
      },
      "source": [
        "name1 = input(\"Enter file to be read : \")\n",
        "name2 = input(\"Enter file to be appended to: \")\n",
        "fin = open(name1, \"r\")\n",
        "data2 = fin.read()\n",
        "fin.close()\n",
        "fout = open(name2, \"a\")\n",
        "fout.write(data2)\n",
        "fout.close()\n",
        "\n",
        "Enter file to be read : abc.txt\n",
        "Enter file to be appended to: foo.txt"
      ],
      "execution_count": 0,
      "outputs": []
    },
    {
      "cell_type": "markdown",
      "metadata": {
        "id": "3fSf0qbgRj4P",
        "colab_type": "text"
      },
      "source": [
        "#Python Program to read a file and capitalize the first letter of every word in the file and copy the every word capitalized content into another file and read it ."
      ]
    },
    {
      "cell_type": "code",
      "metadata": {
        "id": "3Hq8Jz2lRq6J",
        "colab_type": "code",
        "colab": {}
      },
      "source": [
        "fname = input(\"Enter file name: \")\n",
        "with open(fname, 'r') as f:\n",
        "  with open(\"out.txt\", \"w\") as f1:\n",
        "    for line in f:\n",
        "        l=line.title()\n",
        "        f1.write(l)\n",
        "file2=open(\"out.txt\",'r')\n",
        "line=file2.readline()\n",
        "while(line!=\"\"):\n",
        "    print(line)\n",
        "    line=file2.readline()\n",
        "file2.close()\n",
        "\n",
        "Enter file name: maa.txt\n",
        "Python Program To Read A File And Capitalize The First Letter Of Every Word In The File And Copy The Every Word Capitalized Content  Into Another File And Read It ."
      ],
      "execution_count": 0,
      "outputs": []
    }
  ]
}